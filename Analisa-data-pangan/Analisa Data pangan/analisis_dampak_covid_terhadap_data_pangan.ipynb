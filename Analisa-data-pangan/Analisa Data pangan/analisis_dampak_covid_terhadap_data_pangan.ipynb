{
 "cells": [
  {
   "cell_type": "code",
   "execution_count": 33,
   "id": "61021255",
   "metadata": {},
   "outputs": [],
   "source": [
    "import pandas as pd\n",
    "import numpy as np\n",
    "import matplotlib.pyplot as plt\n",
    "import seaborn as sns\n",
    "from statsmodels.stats.weightstats import ztest as ztest"
   ]
  },
  {
   "cell_type": "code",
   "execution_count": 5,
   "id": "2d5efe98",
   "metadata": {},
   "outputs": [],
   "source": [
    "df = pd.read_csv('data complete.csv')"
   ]
  },
  {
   "cell_type": "code",
   "execution_count": 6,
   "id": "35ab0cee",
   "metadata": {},
   "outputs": [
    {
     "data": {
      "text/html": [
       "<div>\n",
       "<style scoped>\n",
       "    .dataframe tbody tr th:only-of-type {\n",
       "        vertical-align: middle;\n",
       "    }\n",
       "\n",
       "    .dataframe tbody tr th {\n",
       "        vertical-align: top;\n",
       "    }\n",
       "\n",
       "    .dataframe thead th {\n",
       "        text-align: right;\n",
       "    }\n",
       "</style>\n",
       "<table border=\"1\" class=\"dataframe\">\n",
       "  <thead>\n",
       "    <tr style=\"text-align: right;\">\n",
       "      <th></th>\n",
       "      <th>Datetime</th>\n",
       "      <th>Dirawat</th>\n",
       "      <th>Data kasus</th>\n",
       "      <th>Data Meninggal</th>\n",
       "      <th>Data Sembuh</th>\n",
       "      <th>Remarks</th>\n",
       "      <th>beras</th>\n",
       "      <th>bawang putih</th>\n",
       "      <th>bawang merah</th>\n",
       "      <th>cabai merah</th>\n",
       "      <th>cabai rawit</th>\n",
       "      <th>daging sapi</th>\n",
       "      <th>daging ayam</th>\n",
       "      <th>telur ayam</th>\n",
       "      <th>minyak goreng</th>\n",
       "      <th>gula pasir</th>\n",
       "    </tr>\n",
       "  </thead>\n",
       "  <tbody>\n",
       "    <tr>\n",
       "      <th>0</th>\n",
       "      <td>3/1/2020 7:00</td>\n",
       "      <td>2</td>\n",
       "      <td>2</td>\n",
       "      <td>0</td>\n",
       "      <td>0</td>\n",
       "      <td>2020-Mar-Week-1</td>\n",
       "      <td>13250</td>\n",
       "      <td>58200</td>\n",
       "      <td>38450</td>\n",
       "      <td>62500</td>\n",
       "      <td>13250</td>\n",
       "      <td>126650</td>\n",
       "      <td>36750</td>\n",
       "      <td>26900</td>\n",
       "      <td>13800</td>\n",
       "      <td>15950</td>\n",
       "    </tr>\n",
       "    <tr>\n",
       "      <th>1</th>\n",
       "      <td>3/2/2020 7:00</td>\n",
       "      <td>2</td>\n",
       "      <td>2</td>\n",
       "      <td>0</td>\n",
       "      <td>0</td>\n",
       "      <td>2020-Mar-Week-1</td>\n",
       "      <td>13250</td>\n",
       "      <td>58200</td>\n",
       "      <td>38450</td>\n",
       "      <td>62500</td>\n",
       "      <td>13250</td>\n",
       "      <td>126650</td>\n",
       "      <td>36750</td>\n",
       "      <td>26900</td>\n",
       "      <td>13800</td>\n",
       "      <td>15950</td>\n",
       "    </tr>\n",
       "    <tr>\n",
       "      <th>2</th>\n",
       "      <td>3/3/2020 7:00</td>\n",
       "      <td>2</td>\n",
       "      <td>2</td>\n",
       "      <td>0</td>\n",
       "      <td>0</td>\n",
       "      <td>2020-Mar-Week-1</td>\n",
       "      <td>13250</td>\n",
       "      <td>58200</td>\n",
       "      <td>38450</td>\n",
       "      <td>62500</td>\n",
       "      <td>13250</td>\n",
       "      <td>126650</td>\n",
       "      <td>36750</td>\n",
       "      <td>26900</td>\n",
       "      <td>13800</td>\n",
       "      <td>15950</td>\n",
       "    </tr>\n",
       "    <tr>\n",
       "      <th>3</th>\n",
       "      <td>3/4/2020 7:00</td>\n",
       "      <td>2</td>\n",
       "      <td>2</td>\n",
       "      <td>0</td>\n",
       "      <td>0</td>\n",
       "      <td>2020-Mar-Week-1</td>\n",
       "      <td>13250</td>\n",
       "      <td>58200</td>\n",
       "      <td>38450</td>\n",
       "      <td>62500</td>\n",
       "      <td>13250</td>\n",
       "      <td>126650</td>\n",
       "      <td>36750</td>\n",
       "      <td>26900</td>\n",
       "      <td>13800</td>\n",
       "      <td>15950</td>\n",
       "    </tr>\n",
       "    <tr>\n",
       "      <th>4</th>\n",
       "      <td>3/5/2020 7:00</td>\n",
       "      <td>-1</td>\n",
       "      <td>0</td>\n",
       "      <td>1</td>\n",
       "      <td>0</td>\n",
       "      <td>2020-Mar-Week-1</td>\n",
       "      <td>13250</td>\n",
       "      <td>58200</td>\n",
       "      <td>38450</td>\n",
       "      <td>62500</td>\n",
       "      <td>13250</td>\n",
       "      <td>126650</td>\n",
       "      <td>36750</td>\n",
       "      <td>26900</td>\n",
       "      <td>13800</td>\n",
       "      <td>15950</td>\n",
       "    </tr>\n",
       "    <tr>\n",
       "      <th>5</th>\n",
       "      <td>3/6/2020 7:00</td>\n",
       "      <td>0</td>\n",
       "      <td>0</td>\n",
       "      <td>0</td>\n",
       "      <td>0</td>\n",
       "      <td>2020-Mar-Week-1</td>\n",
       "      <td>13250</td>\n",
       "      <td>58200</td>\n",
       "      <td>38450</td>\n",
       "      <td>62500</td>\n",
       "      <td>13250</td>\n",
       "      <td>126650</td>\n",
       "      <td>36750</td>\n",
       "      <td>26900</td>\n",
       "      <td>13800</td>\n",
       "      <td>15950</td>\n",
       "    </tr>\n",
       "    <tr>\n",
       "      <th>6</th>\n",
       "      <td>3/7/2020 7:00</td>\n",
       "      <td>-2</td>\n",
       "      <td>0</td>\n",
       "      <td>2</td>\n",
       "      <td>0</td>\n",
       "      <td>2020-Mar-Week-1</td>\n",
       "      <td>13250</td>\n",
       "      <td>58200</td>\n",
       "      <td>38450</td>\n",
       "      <td>62500</td>\n",
       "      <td>13250</td>\n",
       "      <td>126650</td>\n",
       "      <td>36750</td>\n",
       "      <td>26900</td>\n",
       "      <td>13800</td>\n",
       "      <td>15950</td>\n",
       "    </tr>\n",
       "    <tr>\n",
       "      <th>7</th>\n",
       "      <td>3/8/2020 7:00</td>\n",
       "      <td>0</td>\n",
       "      <td>0</td>\n",
       "      <td>0</td>\n",
       "      <td>0</td>\n",
       "      <td>2020-Mar-Week-2</td>\n",
       "      <td>13300</td>\n",
       "      <td>53850</td>\n",
       "      <td>38850</td>\n",
       "      <td>63750</td>\n",
       "      <td>13300</td>\n",
       "      <td>126650</td>\n",
       "      <td>36800</td>\n",
       "      <td>27100</td>\n",
       "      <td>13750</td>\n",
       "      <td>17350</td>\n",
       "    </tr>\n",
       "    <tr>\n",
       "      <th>8</th>\n",
       "      <td>3/9/2020 7:00</td>\n",
       "      <td>-1</td>\n",
       "      <td>0</td>\n",
       "      <td>1</td>\n",
       "      <td>0</td>\n",
       "      <td>2020-Mar-Week-2</td>\n",
       "      <td>13300</td>\n",
       "      <td>53850</td>\n",
       "      <td>38850</td>\n",
       "      <td>63750</td>\n",
       "      <td>13300</td>\n",
       "      <td>126650</td>\n",
       "      <td>36800</td>\n",
       "      <td>27100</td>\n",
       "      <td>13750</td>\n",
       "      <td>17350</td>\n",
       "    </tr>\n",
       "    <tr>\n",
       "      <th>9</th>\n",
       "      <td>3/10/2020 7:00</td>\n",
       "      <td>0</td>\n",
       "      <td>0</td>\n",
       "      <td>0</td>\n",
       "      <td>0</td>\n",
       "      <td>2020-Mar-Week-2</td>\n",
       "      <td>13300</td>\n",
       "      <td>53850</td>\n",
       "      <td>38850</td>\n",
       "      <td>63750</td>\n",
       "      <td>13300</td>\n",
       "      <td>126650</td>\n",
       "      <td>36800</td>\n",
       "      <td>27100</td>\n",
       "      <td>13750</td>\n",
       "      <td>17350</td>\n",
       "    </tr>\n",
       "  </tbody>\n",
       "</table>\n",
       "</div>"
      ],
      "text/plain": [
       "         Datetime  Dirawat  Data kasus  Data Meninggal  Data Sembuh  \\\n",
       "0   3/1/2020 7:00        2           2               0            0   \n",
       "1   3/2/2020 7:00        2           2               0            0   \n",
       "2   3/3/2020 7:00        2           2               0            0   \n",
       "3   3/4/2020 7:00        2           2               0            0   \n",
       "4   3/5/2020 7:00       -1           0               1            0   \n",
       "5   3/6/2020 7:00        0           0               0            0   \n",
       "6   3/7/2020 7:00       -2           0               2            0   \n",
       "7   3/8/2020 7:00        0           0               0            0   \n",
       "8   3/9/2020 7:00       -1           0               1            0   \n",
       "9  3/10/2020 7:00        0           0               0            0   \n",
       "\n",
       "           Remarks  beras  bawang putih  bawang merah  cabai merah  \\\n",
       "0  2020-Mar-Week-1  13250         58200         38450        62500   \n",
       "1  2020-Mar-Week-1  13250         58200         38450        62500   \n",
       "2  2020-Mar-Week-1  13250         58200         38450        62500   \n",
       "3  2020-Mar-Week-1  13250         58200         38450        62500   \n",
       "4  2020-Mar-Week-1  13250         58200         38450        62500   \n",
       "5  2020-Mar-Week-1  13250         58200         38450        62500   \n",
       "6  2020-Mar-Week-1  13250         58200         38450        62500   \n",
       "7  2020-Mar-Week-2  13300         53850         38850        63750   \n",
       "8  2020-Mar-Week-2  13300         53850         38850        63750   \n",
       "9  2020-Mar-Week-2  13300         53850         38850        63750   \n",
       "\n",
       "   cabai rawit  daging sapi  daging ayam  telur ayam  minyak goreng  \\\n",
       "0        13250       126650        36750       26900          13800   \n",
       "1        13250       126650        36750       26900          13800   \n",
       "2        13250       126650        36750       26900          13800   \n",
       "3        13250       126650        36750       26900          13800   \n",
       "4        13250       126650        36750       26900          13800   \n",
       "5        13250       126650        36750       26900          13800   \n",
       "6        13250       126650        36750       26900          13800   \n",
       "7        13300       126650        36800       27100          13750   \n",
       "8        13300       126650        36800       27100          13750   \n",
       "9        13300       126650        36800       27100          13750   \n",
       "\n",
       "   gula pasir  \n",
       "0       15950  \n",
       "1       15950  \n",
       "2       15950  \n",
       "3       15950  \n",
       "4       15950  \n",
       "5       15950  \n",
       "6       15950  \n",
       "7       17350  \n",
       "8       17350  \n",
       "9       17350  "
      ]
     },
     "execution_count": 6,
     "metadata": {},
     "output_type": "execute_result"
    }
   ],
   "source": [
    "df.head(10)"
   ]
  },
  {
   "cell_type": "code",
   "execution_count": 7,
   "id": "71ef76d3",
   "metadata": {},
   "outputs": [
    {
     "name": "stdout",
     "output_type": "stream",
     "text": [
      "<class 'pandas.core.frame.DataFrame'>\n",
      "RangeIndex: 563 entries, 0 to 562\n",
      "Data columns (total 16 columns):\n",
      " #   Column          Non-Null Count  Dtype \n",
      "---  ------          --------------  ----- \n",
      " 0   Datetime        563 non-null    object\n",
      " 1   Dirawat         563 non-null    int64 \n",
      " 2   Data kasus      563 non-null    int64 \n",
      " 3   Data Meninggal  563 non-null    int64 \n",
      " 4   Data Sembuh     563 non-null    int64 \n",
      " 5   Remarks         563 non-null    object\n",
      " 6   beras           563 non-null    int64 \n",
      " 7   bawang putih    563 non-null    int64 \n",
      " 8   bawang merah    563 non-null    int64 \n",
      " 9   cabai merah     563 non-null    int64 \n",
      " 10  cabai rawit     563 non-null    int64 \n",
      " 11  daging sapi     563 non-null    int64 \n",
      " 12  daging ayam     563 non-null    int64 \n",
      " 13  telur ayam      563 non-null    int64 \n",
      " 14  minyak goreng   563 non-null    int64 \n",
      " 15  gula pasir      563 non-null    int64 \n",
      "dtypes: int64(14), object(2)\n",
      "memory usage: 70.5+ KB\n"
     ]
    }
   ],
   "source": [
    "df.info()"
   ]
  },
  {
   "cell_type": "code",
   "execution_count": 8,
   "id": "d158b22f",
   "metadata": {},
   "outputs": [
    {
     "data": {
      "text/plain": [
       "Datetime          0\n",
       "Dirawat           0\n",
       "Data kasus        0\n",
       "Data Meninggal    0\n",
       "Data Sembuh       0\n",
       "Remarks           0\n",
       "beras             0\n",
       "bawang putih      0\n",
       "bawang merah      0\n",
       "cabai merah       0\n",
       "cabai rawit       0\n",
       "daging sapi       0\n",
       "daging ayam       0\n",
       "telur ayam        0\n",
       "minyak goreng     0\n",
       "gula pasir        0\n",
       "dtype: int64"
      ]
     },
     "execution_count": 8,
     "metadata": {},
     "output_type": "execute_result"
    }
   ],
   "source": [
    "df.isnull().sum()"
   ]
  },
  {
   "cell_type": "code",
   "execution_count": 14,
   "id": "0b7806f0",
   "metadata": {},
   "outputs": [
    {
     "data": {
      "text/plain": [
       "Dirawat           0.149294\n",
       "Data kasus        1.000000\n",
       "Data Meninggal    0.696716\n",
       "Data Sembuh       0.771653\n",
       "beras             0.357149\n",
       "bawang putih      0.221416\n",
       "bawang merah      0.266126\n",
       "cabai merah       0.011290\n",
       "cabai rawit       0.357149\n",
       "daging sapi       0.277453\n",
       "daging ayam       0.169035\n",
       "telur ayam        0.074588\n",
       "minyak goreng     0.403301\n",
       "gula pasir        0.376503\n",
       "Name: Data kasus, dtype: float64"
      ]
     },
     "execution_count": 14,
     "metadata": {},
     "output_type": "execute_result"
    }
   ],
   "source": [
    "(abs(df.corr()['Data kasus']))"
   ]
  },
  {
   "cell_type": "code",
   "execution_count": 31,
   "id": "445b00aa",
   "metadata": {},
   "outputs": [
    {
     "data": {
      "text/plain": [
       "<AxesSubplot:>"
      ]
     },
     "execution_count": 31,
     "metadata": {},
     "output_type": "execute_result"
    },
    {
     "data": {
      "image/png": "[encoded data removed]",
      "text/plain": [
       "<Figure size 720x360 with 2 Axes>"
      ]
     },
     "metadata": {
      "needs_background": "light"
     },
     "output_type": "display_data"
    }
   ],
   "source": [
    "fig, ax = plt.subplots(figsize=(10, 5));\n",
    "# calculate the correlation matrix\n",
    "corr = df.corr()\n",
    "\n",
    "# plot the heatmap\n",
    "sns.heatmap(corr, \n",
    "        xticklabels=corr.columns,\n",
    "        yticklabels=corr.columns)"
   ]
  },
  {
   "cell_type": "code",
   "execution_count": 32,
   "id": "c428d257",
   "metadata": {},
   "outputs": [
    {
     "name": "stderr",
     "output_type": "stream",
     "text": [
      "<ipython-input-32-762ef94df992>:15: FutureWarning: this method is deprecated in favour of `Styler.format(precision=..)`\n",
      "  corr.style.background_gradient(cmap, axis=1)\\\n"
     ]
    },
    {
     "data": {
      "text/html": [
       "<style type=\"text/css\">\n",
       "#T_a35fd_ th {\n",
       "  font-size: 7pt;\n",
       "}\n",
       "#T_a35fd_ td {\n",
       "  padding: 0em 0em;\n",
       "}\n",
       "#T_a35fd_ th:hover {\n",
       "  font-size: 12pt;\n",
       "}\n",
       "#T_a35fd_ tr:hover td:hover {\n",
       "  max-width: 200px;\n",
       "  font-size: 12pt;\n",
       "}\n",
       "#T_a35fd_row0_col0, #T_a35fd_row1_col1, #T_a35fd_row2_col2, #T_a35fd_row3_col3, #T_a35fd_row4_col4, #T_a35fd_row4_col8, #T_a35fd_row5_col5, #T_a35fd_row6_col6, #T_a35fd_row7_col7, #T_a35fd_row8_col4, #T_a35fd_row8_col8, #T_a35fd_row9_col9, #T_a35fd_row10_col10, #T_a35fd_row11_col11, #T_a35fd_row12_col12, #T_a35fd_row13_col13 {\n",
       "  background-color: #4479bb;\n",
       "  color: #f1f1f1;\n",
       "  max-width: 80px;\n",
       "  font-size: 10pt;\n",
       "}\n",
       "#T_a35fd_row0_col1, #T_a35fd_row4_col7, #T_a35fd_row8_col7 {\n",
       "  background-color: #efdcdf;\n",
       "  color: #000000;\n",
       "  max-width: 80px;\n",
       "  font-size: 10pt;\n",
       "}\n",
       "#T_a35fd_row0_col2, #T_a35fd_row4_col2, #T_a35fd_row8_col2 {\n",
       "  background-color: #e0798d;\n",
       "  color: #f1f1f1;\n",
       "  max-width: 80px;\n",
       "  font-size: 10pt;\n",
       "}\n",
       "#T_a35fd_row0_col3, #T_a35fd_row1_col13, #T_a35fd_row2_col4, #T_a35fd_row2_col8, #T_a35fd_row3_col0, #T_a35fd_row4_col12, #T_a35fd_row5_col12, #T_a35fd_row6_col12, #T_a35fd_row7_col13, #T_a35fd_row8_col12, #T_a35fd_row9_col4, #T_a35fd_row9_col8, #T_a35fd_row10_col2, #T_a35fd_row11_col12, #T_a35fd_row12_col13, #T_a35fd_row13_col12 {\n",
       "  background-color: #d73c5b;\n",
       "  color: #f1f1f1;\n",
       "  max-width: 80px;\n",
       "  font-size: 10pt;\n",
       "}\n",
       "#T_a35fd_row0_col4, #T_a35fd_row0_col8, #T_a35fd_row12_col10 {\n",
       "  background-color: #efdde0;\n",
       "  color: #000000;\n",
       "  max-width: 80px;\n",
       "  font-size: 10pt;\n",
       "}\n",
       "#T_a35fd_row0_col5, #T_a35fd_row0_col13 {\n",
       "  background-color: #eab9c3;\n",
       "  color: #000000;\n",
       "  max-width: 80px;\n",
       "  font-size: 10pt;\n",
       "}\n",
       "#T_a35fd_row0_col6 {\n",
       "  background-color: #e9b1bc;\n",
       "  color: #000000;\n",
       "  max-width: 80px;\n",
       "  font-size: 10pt;\n",
       "}\n",
       "#T_a35fd_row0_col7 {\n",
       "  background-color: #e9b2bd;\n",
       "  color: #000000;\n",
       "  max-width: 80px;\n",
       "  font-size: 10pt;\n",
       "}\n",
       "#T_a35fd_row0_col9, #T_a35fd_row10_col11 {\n",
       "  background-color: #eab7c1;\n",
       "  color: #000000;\n",
       "  max-width: 80px;\n",
       "  font-size: 10pt;\n",
       "}\n",
       "#T_a35fd_row0_col10, #T_a35fd_row10_col6, #T_a35fd_row12_col0 {\n",
       "  background-color: #edd0d6;\n",
       "  color: #000000;\n",
       "  max-width: 80px;\n",
       "  font-size: 10pt;\n",
       "}\n",
       "#T_a35fd_row0_col11, #T_a35fd_row11_col4, #T_a35fd_row11_col5, #T_a35fd_row11_col8 {\n",
       "  background-color: #e9b4be;\n",
       "  color: #000000;\n",
       "  max-width: 80px;\n",
       "  font-size: 10pt;\n",
       "}\n",
       "#T_a35fd_row0_col12, #T_a35fd_row9_col0 {\n",
       "  background-color: #e9afbb;\n",
       "  color: #000000;\n",
       "  max-width: 80px;\n",
       "  font-size: 10pt;\n",
       "}\n",
       "#T_a35fd_row1_col0, #T_a35fd_row5_col11 {\n",
       "  background-color: #ecc6ce;\n",
       "  color: #000000;\n",
       "  max-width: 80px;\n",
       "  font-size: 10pt;\n",
       "}\n",
       "#T_a35fd_row1_col2 {\n",
       "  background-color: #90aed3;\n",
       "  color: #f1f1f1;\n",
       "  max-width: 80px;\n",
       "  font-size: 10pt;\n",
       "}\n",
       "#T_a35fd_row1_col3, #T_a35fd_row2_col3 {\n",
       "  background-color: #7da0cd;\n",
       "  color: #f1f1f1;\n",
       "  max-width: 80px;\n",
       "  font-size: 10pt;\n",
       "}\n",
       "#T_a35fd_row1_col4, #T_a35fd_row1_col8 {\n",
       "  background-color: #d8405e;\n",
       "  color: #f1f1f1;\n",
       "  max-width: 80px;\n",
       "  font-size: 10pt;\n",
       "}\n",
       "#T_a35fd_row1_col5 {\n",
       "  background-color: #dd637c;\n",
       "  color: #f1f1f1;\n",
       "  max-width: 80px;\n",
       "  font-size: 10pt;\n",
       "}\n",
       "#T_a35fd_row1_col6 {\n",
       "  background-color: #db5872;\n",
       "  color: #f1f1f1;\n",
       "  max-width: 80px;\n",
       "  font-size: 10pt;\n",
       "}\n",
       "#T_a35fd_row1_col7, #T_a35fd_row10_col0 {\n",
       "  background-color: #e69caa;\n",
       "  color: #000000;\n",
       "  max-width: 80px;\n",
       "  font-size: 10pt;\n",
       "}\n",
       "#T_a35fd_row1_col9 {\n",
       "  background-color: #f1e8ea;\n",
       "  color: #000000;\n",
       "  max-width: 80px;\n",
       "  font-size: 10pt;\n",
       "}\n",
       "#T_a35fd_row1_col10, #T_a35fd_row2_col6, #T_a35fd_row10_col5 {\n",
       "  background-color: #df7288;\n",
       "  color: #f1f1f1;\n",
       "  max-width: 80px;\n",
       "  font-size: 10pt;\n",
       "}\n",
       "#T_a35fd_row1_col11, #T_a35fd_row7_col3, #T_a35fd_row9_col7, #T_a35fd_row10_col13 {\n",
       "  background-color: #e38b9d;\n",
       "  color: #f1f1f1;\n",
       "  max-width: 80px;\n",
       "  font-size: 10pt;\n",
       "}\n",
       "#T_a35fd_row1_col12 {\n",
       "  background-color: #dae1eb;\n",
       "  color: #000000;\n",
       "  max-width: 80px;\n",
       "  font-size: 10pt;\n",
       "}\n",
       "#T_a35fd_row2_col0, #T_a35fd_row3_col13, #T_a35fd_row5_col1 {\n",
       "  background-color: #de667e;\n",
       "  color: #f1f1f1;\n",
       "  max-width: 80px;\n",
       "  font-size: 10pt;\n",
       "}\n",
       "#T_a35fd_row2_col1 {\n",
       "  background-color: #8dacd2;\n",
       "  color: #f1f1f1;\n",
       "  max-width: 80px;\n",
       "  font-size: 10pt;\n",
       "}\n",
       "#T_a35fd_row2_col5 {\n",
       "  background-color: #e07389;\n",
       "  color: #f1f1f1;\n",
       "  max-width: 80px;\n",
       "  font-size: 10pt;\n",
       "}\n",
       "#T_a35fd_row2_col7 {\n",
       "  background-color: #e6a1af;\n",
       "  color: #000000;\n",
       "  max-width: 80px;\n",
       "  font-size: 10pt;\n",
       "}\n",
       "#T_a35fd_row2_col9 {\n",
       "  background-color: #f1f1f2;\n",
       "  color: #000000;\n",
       "  max-width: 80px;\n",
       "  font-size: 10pt;\n",
       "}\n",
       "#T_a35fd_row2_col10, #T_a35fd_row4_col9, #T_a35fd_row8_col9 {\n",
       "  background-color: #df6f85;\n",
       "  color: #f1f1f1;\n",
       "  max-width: 80px;\n",
       "  font-size: 10pt;\n",
       "}\n",
       "#T_a35fd_row2_col11, #T_a35fd_row11_col13 {\n",
       "  background-color: #e69ead;\n",
       "  color: #000000;\n",
       "  max-width: 80px;\n",
       "  font-size: 10pt;\n",
       "}\n",
       "#T_a35fd_row2_col12 {\n",
       "  background-color: #d1dbe8;\n",
       "  color: #000000;\n",
       "  max-width: 80px;\n",
       "  font-size: 10pt;\n",
       "}\n",
       "#T_a35fd_row2_col13, #T_a35fd_row11_col9 {\n",
       "  background-color: #da506b;\n",
       "  color: #f1f1f1;\n",
       "  max-width: 80px;\n",
       "  font-size: 10pt;\n",
       "}\n",
       "#T_a35fd_row3_col1 {\n",
       "  background-color: #779dcb;\n",
       "  color: #f1f1f1;\n",
       "  max-width: 80px;\n",
       "  font-size: 10pt;\n",
       "}\n",
       "#T_a35fd_row3_col2 {\n",
       "  background-color: #799ecc;\n",
       "  color: #f1f1f1;\n",
       "  max-width: 80px;\n",
       "  font-size: 10pt;\n",
       "}\n",
       "#T_a35fd_row3_col4, #T_a35fd_row3_col8 {\n",
       "  background-color: #db546f;\n",
       "  color: #f1f1f1;\n",
       "  max-width: 80px;\n",
       "  font-size: 10pt;\n",
       "}\n",
       "#T_a35fd_row3_col5, #T_a35fd_row4_col1, #T_a35fd_row6_col1, #T_a35fd_row7_col1, #T_a35fd_row8_col1, #T_a35fd_row11_col0 {\n",
       "  background-color: #e28799;\n",
       "  color: #f1f1f1;\n",
       "  max-width: 80px;\n",
       "  font-size: 10pt;\n",
       "}\n",
       "#T_a35fd_row3_col6, #T_a35fd_row7_col2 {\n",
       "  background-color: #e28396;\n",
       "  color: #f1f1f1;\n",
       "  max-width: 80px;\n",
       "  font-size: 10pt;\n",
       "}\n",
       "#T_a35fd_row3_col7 {\n",
       "  background-color: #eab8c2;\n",
       "  color: #000000;\n",
       "  max-width: 80px;\n",
       "  font-size: 10pt;\n",
       "}\n",
       "#T_a35fd_row3_col9, #T_a35fd_row4_col11, #T_a35fd_row8_col11 {\n",
       "  background-color: #f2f1f1;\n",
       "  color: #000000;\n",
       "  max-width: 80px;\n",
       "  font-size: 10pt;\n",
       "}\n",
       "#T_a35fd_row3_col10, #T_a35fd_row10_col12 {\n",
       "  background-color: #e28497;\n",
       "  color: #f1f1f1;\n",
       "  max-width: 80px;\n",
       "  font-size: 10pt;\n",
       "}\n",
       "#T_a35fd_row3_col11 {\n",
       "  background-color: #e8aab6;\n",
       "  color: #000000;\n",
       "  max-width: 80px;\n",
       "  font-size: 10pt;\n",
       "}\n",
       "#T_a35fd_row3_col12, #T_a35fd_row5_col6 {\n",
       "  background-color: #d4dde9;\n",
       "  color: #000000;\n",
       "  max-width: 80px;\n",
       "  font-size: 10pt;\n",
       "}\n",
       "#T_a35fd_row4_col0, #T_a35fd_row8_col0, #T_a35fd_row9_col1 {\n",
       "  background-color: #eeeff2;\n",
       "  color: #000000;\n",
       "  max-width: 80px;\n",
       "  font-size: 10pt;\n",
       "}\n",
       "#T_a35fd_row4_col3, #T_a35fd_row8_col3, #T_a35fd_row9_col11, #T_a35fd_row11_col3 {\n",
       "  background-color: #e17c90;\n",
       "  color: #f1f1f1;\n",
       "  max-width: 80px;\n",
       "  font-size: 10pt;\n",
       "}\n",
       "#T_a35fd_row4_col5, #T_a35fd_row8_col5 {\n",
       "  background-color: #ecc9d0;\n",
       "  color: #000000;\n",
       "  max-width: 80px;\n",
       "  font-size: 10pt;\n",
       "}\n",
       "#T_a35fd_row4_col6, #T_a35fd_row8_col6 {\n",
       "  background-color: #b2c6de;\n",
       "  color: #000000;\n",
       "  max-width: 80px;\n",
       "  font-size: 10pt;\n",
       "}\n",
       "#T_a35fd_row4_col10, #T_a35fd_row8_col10 {\n",
       "  background-color: #f0e4e6;\n",
       "  color: #000000;\n",
       "  max-width: 80px;\n",
       "  font-size: 10pt;\n",
       "}\n",
       "#T_a35fd_row4_col13, #T_a35fd_row8_col13 {\n",
       "  background-color: #b9cae0;\n",
       "  color: #000000;\n",
       "  max-width: 80px;\n",
       "  font-size: 10pt;\n",
       "}\n",
       "#T_a35fd_row5_col0 {\n",
       "  background-color: #e7a4b1;\n",
       "  color: #000000;\n",
       "  max-width: 80px;\n",
       "  font-size: 10pt;\n",
       "}\n",
       "#T_a35fd_row5_col2, #T_a35fd_row5_col9 {\n",
       "  background-color: #de6c83;\n",
       "  color: #f1f1f1;\n",
       "  max-width: 80px;\n",
       "  font-size: 10pt;\n",
       "}\n",
       "#T_a35fd_row5_col3 {\n",
       "  background-color: #df6d84;\n",
       "  color: #f1f1f1;\n",
       "  max-width: 80px;\n",
       "  font-size: 10pt;\n",
       "}\n",
       "#T_a35fd_row5_col4, #T_a35fd_row5_col8, #T_a35fd_row7_col4, #T_a35fd_row7_col8 {\n",
       "  background-color: #e595a5;\n",
       "  color: #000000;\n",
       "  max-width: 80px;\n",
       "  font-size: 10pt;\n",
       "}\n",
       "#T_a35fd_row5_col7, #T_a35fd_row7_col11, #T_a35fd_row11_col7, #T_a35fd_row13_col0 {\n",
       "  background-color: #efd9dd;\n",
       "  color: #000000;\n",
       "  max-width: 80px;\n",
       "  font-size: 10pt;\n",
       "}\n",
       "#T_a35fd_row5_col10 {\n",
       "  background-color: #e599a8;\n",
       "  color: #000000;\n",
       "  max-width: 80px;\n",
       "  font-size: 10pt;\n",
       "}\n",
       "#T_a35fd_row5_col13 {\n",
       "  background-color: #9fb8d8;\n",
       "  color: #000000;\n",
       "  max-width: 80px;\n",
       "  font-size: 10pt;\n",
       "}\n",
       "#T_a35fd_row6_col0 {\n",
       "  background-color: #ebbec6;\n",
       "  color: #000000;\n",
       "  max-width: 80px;\n",
       "  font-size: 10pt;\n",
       "}\n",
       "#T_a35fd_row6_col2, #T_a35fd_row10_col4, #T_a35fd_row10_col8 {\n",
       "  background-color: #e494a4;\n",
       "  color: #f1f1f1;\n",
       "  max-width: 80px;\n",
       "  font-size: 10pt;\n",
       "}\n",
       "#T_a35fd_row6_col3, #T_a35fd_row13_col3 {\n",
       "  background-color: #e492a3;\n",
       "  color: #f1f1f1;\n",
       "  max-width: 80px;\n",
       "  font-size: 10pt;\n",
       "}\n",
       "#T_a35fd_row6_col4, #T_a35fd_row6_col8, #T_a35fd_row12_col1 {\n",
       "  background-color: #bacbe1;\n",
       "  color: #000000;\n",
       "  max-width: 80px;\n",
       "  font-size: 10pt;\n",
       "}\n",
       "#T_a35fd_row6_col5, #T_a35fd_row12_col3 {\n",
       "  background-color: #c1d0e3;\n",
       "  color: #000000;\n",
       "  max-width: 80px;\n",
       "  font-size: 10pt;\n",
       "}\n",
       "#T_a35fd_row6_col7, #T_a35fd_row13_col9 {\n",
       "  background-color: #e491a1;\n",
       "  color: #f1f1f1;\n",
       "  max-width: 80px;\n",
       "  font-size: 10pt;\n",
       "}\n",
       "#T_a35fd_row6_col9 {\n",
       "  background-color: #e7a5b2;\n",
       "  color: #000000;\n",
       "  max-width: 80px;\n",
       "  font-size: 10pt;\n",
       "}\n",
       "#T_a35fd_row6_col10, #T_a35fd_row9_col10 {\n",
       "  background-color: #e0e6ed;\n",
       "  color: #000000;\n",
       "  max-width: 80px;\n",
       "  font-size: 10pt;\n",
       "}\n",
       "#T_a35fd_row6_col11 {\n",
       "  background-color: #ebbfc8;\n",
       "  color: #000000;\n",
       "  max-width: 80px;\n",
       "  font-size: 10pt;\n",
       "}\n",
       "#T_a35fd_row6_col13 {\n",
       "  background-color: #628ec4;\n",
       "  color: #f1f1f1;\n",
       "  max-width: 80px;\n",
       "  font-size: 10pt;\n",
       "}\n",
       "#T_a35fd_row7_col0, #T_a35fd_row11_col6, #T_a35fd_row12_col5 {\n",
       "  background-color: #e28698;\n",
       "  color: #f1f1f1;\n",
       "  max-width: 80px;\n",
       "  font-size: 10pt;\n",
       "}\n",
       "#T_a35fd_row7_col5 {\n",
       "  background-color: #ecc8cf;\n",
       "  color: #000000;\n",
       "  max-width: 80px;\n",
       "  font-size: 10pt;\n",
       "}\n",
       "#T_a35fd_row7_col6 {\n",
       "  background-color: #da4d69;\n",
       "  color: #f1f1f1;\n",
       "  max-width: 80px;\n",
       "  font-size: 10pt;\n",
       "}\n",
       "#T_a35fd_row7_col9 {\n",
       "  background-color: #dd627b;\n",
       "  color: #f1f1f1;\n",
       "  max-width: 80px;\n",
       "  font-size: 10pt;\n",
       "}\n",
       "#T_a35fd_row7_col10 {\n",
       "  background-color: #eed4d9;\n",
       "  color: #000000;\n",
       "  max-width: 80px;\n",
       "  font-size: 10pt;\n",
       "}\n",
       "#T_a35fd_row7_col12 {\n",
       "  background-color: #e6a0ae;\n",
       "  color: #000000;\n",
       "  max-width: 80px;\n",
       "  font-size: 10pt;\n",
       "}\n",
       "#T_a35fd_row9_col2 {\n",
       "  background-color: #ebedf1;\n",
       "  color: #000000;\n",
       "  max-width: 80px;\n",
       "  font-size: 10pt;\n",
       "}\n",
       "#T_a35fd_row9_col3 {\n",
       "  background-color: #f2ebec;\n",
       "  color: #000000;\n",
       "  max-width: 80px;\n",
       "  font-size: 10pt;\n",
       "}\n",
       "#T_a35fd_row9_col5 {\n",
       "  background-color: #e17d91;\n",
       "  color: #f1f1f1;\n",
       "  max-width: 80px;\n",
       "  font-size: 10pt;\n",
       "}\n",
       "#T_a35fd_row9_col6 {\n",
       "  background-color: #e48e9f;\n",
       "  color: #f1f1f1;\n",
       "  max-width: 80px;\n",
       "  font-size: 10pt;\n",
       "}\n",
       "#T_a35fd_row9_col12 {\n",
       "  background-color: #96b2d5;\n",
       "  color: #000000;\n",
       "  max-width: 80px;\n",
       "  font-size: 10pt;\n",
       "}\n",
       "#T_a35fd_row9_col13 {\n",
       "  background-color: #dc5c76;\n",
       "  color: #f1f1f1;\n",
       "  max-width: 80px;\n",
       "  font-size: 10pt;\n",
       "}\n",
       "#T_a35fd_row10_col1 {\n",
       "  background-color: #d94a67;\n",
       "  color: #f1f1f1;\n",
       "  max-width: 80px;\n",
       "  font-size: 10pt;\n",
       "}\n",
       "#T_a35fd_row10_col3 {\n",
       "  background-color: #d73d5c;\n",
       "  color: #f1f1f1;\n",
       "  max-width: 80px;\n",
       "  font-size: 10pt;\n",
       "}\n",
       "#T_a35fd_row10_col7 {\n",
       "  background-color: #edcad1;\n",
       "  color: #000000;\n",
       "  max-width: 80px;\n",
       "  font-size: 10pt;\n",
       "}\n",
       "#T_a35fd_row10_col9, #T_a35fd_row13_col10 {\n",
       "  background-color: #f0e3e5;\n",
       "  color: #000000;\n",
       "  max-width: 80px;\n",
       "  font-size: 10pt;\n",
       "}\n",
       "#T_a35fd_row11_col1 {\n",
       "  background-color: #e0768b;\n",
       "  color: #f1f1f1;\n",
       "  max-width: 80px;\n",
       "  font-size: 10pt;\n",
       "}\n",
       "#T_a35fd_row11_col2 {\n",
       "  background-color: #e28194;\n",
       "  color: #f1f1f1;\n",
       "  max-width: 80px;\n",
       "  font-size: 10pt;\n",
       "}\n",
       "#T_a35fd_row11_col10 {\n",
       "  background-color: #ebc2ca;\n",
       "  color: #000000;\n",
       "  max-width: 80px;\n",
       "  font-size: 10pt;\n",
       "}\n",
       "#T_a35fd_row12_col2 {\n",
       "  background-color: #b8c9e0;\n",
       "  color: #000000;\n",
       "  max-width: 80px;\n",
       "  font-size: 10pt;\n",
       "}\n",
       "#T_a35fd_row12_col4, #T_a35fd_row12_col8 {\n",
       "  background-color: #d84361;\n",
       "  color: #f1f1f1;\n",
       "  max-width: 80px;\n",
       "  font-size: 10pt;\n",
       "}\n",
       "#T_a35fd_row12_col6 {\n",
       "  background-color: #dc5b75;\n",
       "  color: #f1f1f1;\n",
       "  max-width: 80px;\n",
       "  font-size: 10pt;\n",
       "}\n",
       "#T_a35fd_row12_col7 {\n",
       "  background-color: #f1e7e9;\n",
       "  color: #000000;\n",
       "  max-width: 80px;\n",
       "  font-size: 10pt;\n",
       "}\n",
       "#T_a35fd_row12_col9 {\n",
       "  background-color: #89a9d1;\n",
       "  color: #f1f1f1;\n",
       "  max-width: 80px;\n",
       "  font-size: 10pt;\n",
       "}\n",
       "#T_a35fd_row12_col11, #T_a35fd_row13_col7 {\n",
       "  background-color: #e69dab;\n",
       "  color: #000000;\n",
       "  max-width: 80px;\n",
       "  font-size: 10pt;\n",
       "}\n",
       "#T_a35fd_row13_col1 {\n",
       "  background-color: #e3889a;\n",
       "  color: #f1f1f1;\n",
       "  max-width: 80px;\n",
       "  font-size: 10pt;\n",
       "}\n",
       "#T_a35fd_row13_col2 {\n",
       "  background-color: #e48fa0;\n",
       "  color: #f1f1f1;\n",
       "  max-width: 80px;\n",
       "  font-size: 10pt;\n",
       "}\n",
       "#T_a35fd_row13_col4, #T_a35fd_row13_col8 {\n",
       "  background-color: #b6c9e0;\n",
       "  color: #000000;\n",
       "  max-width: 80px;\n",
       "  font-size: 10pt;\n",
       "}\n",
       "#T_a35fd_row13_col5 {\n",
       "  background-color: #8cabd2;\n",
       "  color: #f1f1f1;\n",
       "  max-width: 80px;\n",
       "  font-size: 10pt;\n",
       "}\n",
       "#T_a35fd_row13_col6 {\n",
       "  background-color: #5f8cc3;\n",
       "  color: #f1f1f1;\n",
       "  max-width: 80px;\n",
       "  font-size: 10pt;\n",
       "}\n",
       "#T_a35fd_row13_col11 {\n",
       "  background-color: #f1e5e7;\n",
       "  color: #000000;\n",
       "  max-width: 80px;\n",
       "  font-size: 10pt;\n",
       "}\n",
       "</style>\n",
       "<table id=\"T_a35fd_\">\n",
       "  <caption>Hover to magify</caption>\n",
       "  <thead>\n",
       "    <tr>\n",
       "      <th class=\"blank level0\" >&nbsp;</th>\n",
       "      <th class=\"col_heading level0 col0\" >Dirawat</th>\n",
       "      <th class=\"col_heading level0 col1\" >Data kasus</th>\n",
       "      <th class=\"col_heading level0 col2\" >Data Meninggal</th>\n",
       "      <th class=\"col_heading level0 col3\" >Data Sembuh</th>\n",
       "      <th class=\"col_heading level0 col4\" >beras</th>\n",
       "      <th class=\"col_heading level0 col5\" >bawang putih</th>\n",
       "      <th class=\"col_heading level0 col6\" >bawang merah</th>\n",
       "      <th class=\"col_heading level0 col7\" >cabai merah</th>\n",
       "      <th class=\"col_heading level0 col8\" >cabai rawit</th>\n",
       "      <th class=\"col_heading level0 col9\" >daging sapi</th>\n",
       "      <th class=\"col_heading level0 col10\" >daging ayam</th>\n",
       "      <th class=\"col_heading level0 col11\" >telur ayam</th>\n",
       "      <th class=\"col_heading level0 col12\" >minyak goreng</th>\n",
       "      <th class=\"col_heading level0 col13\" >gula pasir</th>\n",
       "    </tr>\n",
       "  </thead>\n",
       "  <tbody>\n",
       "    <tr>\n",
       "      <th id=\"T_a35fd_level0_row0\" class=\"row_heading level0 row0\" >Dirawat</th>\n",
       "      <td id=\"T_a35fd_row0_col0\" class=\"data row0 col0\" >1.00</td>\n",
       "      <td id=\"T_a35fd_row0_col1\" class=\"data row0 col1\" >0.15</td>\n",
       "      <td id=\"T_a35fd_row0_col2\" class=\"data row0 col2\" >-0.25</td>\n",
       "      <td id=\"T_a35fd_row0_col3\" class=\"data row0 col3\" >-0.51</td>\n",
       "      <td id=\"T_a35fd_row0_col4\" class=\"data row0 col4\" >0.16</td>\n",
       "      <td id=\"T_a35fd_row0_col5\" class=\"data row0 col5\" >0.01</td>\n",
       "      <td id=\"T_a35fd_row0_col6\" class=\"data row0 col6\" >-0.03</td>\n",
       "      <td id=\"T_a35fd_row0_col7\" class=\"data row0 col7\" >-0.02</td>\n",
       "      <td id=\"T_a35fd_row0_col8\" class=\"data row0 col8\" >0.16</td>\n",
       "      <td id=\"T_a35fd_row0_col9\" class=\"data row0 col9\" >-0.00</td>\n",
       "      <td id=\"T_a35fd_row0_col10\" class=\"data row0 col10\" >0.10</td>\n",
       "      <td id=\"T_a35fd_row0_col11\" class=\"data row0 col11\" >-0.02</td>\n",
       "      <td id=\"T_a35fd_row0_col12\" class=\"data row0 col12\" >-0.03</td>\n",
       "      <td id=\"T_a35fd_row0_col13\" class=\"data row0 col13\" >0.01</td>\n",
       "    </tr>\n",
       "    <tr>\n",
       "      <th id=\"T_a35fd_level0_row1\" class=\"row_heading level0 row1\" >Data kasus</th>\n",
       "      <td id=\"T_a35fd_row1_col0\" class=\"data row1 col0\" >0.15</td>\n",
       "      <td id=\"T_a35fd_row1_col1\" class=\"data row1 col1\" >1.00</td>\n",
       "      <td id=\"T_a35fd_row1_col2\" class=\"data row1 col2\" >0.70</td>\n",
       "      <td id=\"T_a35fd_row1_col3\" class=\"data row1 col3\" >0.77</td>\n",
       "      <td id=\"T_a35fd_row1_col4\" class=\"data row1 col4\" >-0.36</td>\n",
       "      <td id=\"T_a35fd_row1_col5\" class=\"data row1 col5\" >-0.22</td>\n",
       "      <td id=\"T_a35fd_row1_col6\" class=\"data row1 col6\" >-0.27</td>\n",
       "      <td id=\"T_a35fd_row1_col7\" class=\"data row1 col7\" >-0.01</td>\n",
       "      <td id=\"T_a35fd_row1_col8\" class=\"data row1 col8\" >-0.36</td>\n",
       "      <td id=\"T_a35fd_row1_col9\" class=\"data row1 col9\" >0.28</td>\n",
       "      <td id=\"T_a35fd_row1_col10\" class=\"data row1 col10\" >-0.17</td>\n",
       "      <td id=\"T_a35fd_row1_col11\" class=\"data row1 col11\" >-0.07</td>\n",
       "      <td id=\"T_a35fd_row1_col12\" class=\"data row1 col12\" >0.40</td>\n",
       "      <td id=\"T_a35fd_row1_col13\" class=\"data row1 col13\" >-0.38</td>\n",
       "    </tr>\n",
       "    <tr>\n",
       "      <th id=\"T_a35fd_level0_row2\" class=\"row_heading level0 row2\" >Data Meninggal</th>\n",
       "      <td id=\"T_a35fd_row2_col0\" class=\"data row2 col0\" >-0.25</td>\n",
       "      <td id=\"T_a35fd_row2_col1\" class=\"data row2 col1\" >0.70</td>\n",
       "      <td id=\"T_a35fd_row2_col2\" class=\"data row2 col2\" >1.00</td>\n",
       "      <td id=\"T_a35fd_row2_col3\" class=\"data row2 col3\" >0.76</td>\n",
       "      <td id=\"T_a35fd_row2_col4\" class=\"data row2 col4\" >-0.42</td>\n",
       "      <td id=\"T_a35fd_row2_col5\" class=\"data row2 col5\" >-0.20</td>\n",
       "      <td id=\"T_a35fd_row2_col6\" class=\"data row2 col6\" >-0.21</td>\n",
       "      <td id=\"T_a35fd_row2_col7\" class=\"data row2 col7\" >-0.03</td>\n",
       "      <td id=\"T_a35fd_row2_col8\" class=\"data row2 col8\" >-0.42</td>\n",
       "      <td id=\"T_a35fd_row2_col9\" class=\"data row2 col9\" >0.29</td>\n",
       "      <td id=\"T_a35fd_row2_col10\" class=\"data row2 col10\" >-0.22</td>\n",
       "      <td id=\"T_a35fd_row2_col11\" class=\"data row2 col11\" >-0.04</td>\n",
       "      <td id=\"T_a35fd_row2_col12\" class=\"data row2 col12\" >0.42</td>\n",
       "      <td id=\"T_a35fd_row2_col13\" class=\"data row2 col13\" >-0.34</td>\n",
       "    </tr>\n",
       "    <tr>\n",
       "      <th id=\"T_a35fd_level0_row3\" class=\"row_heading level0 row3\" >Data Sembuh</th>\n",
       "      <td id=\"T_a35fd_row3_col0\" class=\"data row3 col0\" >-0.51</td>\n",
       "      <td id=\"T_a35fd_row3_col1\" class=\"data row3 col1\" >0.77</td>\n",
       "      <td id=\"T_a35fd_row3_col2\" class=\"data row3 col2\" >0.76</td>\n",
       "      <td id=\"T_a35fd_row3_col3\" class=\"data row3 col3\" >1.00</td>\n",
       "      <td id=\"T_a35fd_row3_col4\" class=\"data row3 col4\" >-0.41</td>\n",
       "      <td id=\"T_a35fd_row3_col5\" class=\"data row3 col5\" >-0.20</td>\n",
       "      <td id=\"T_a35fd_row3_col6\" class=\"data row3 col6\" >-0.21</td>\n",
       "      <td id=\"T_a35fd_row3_col7\" class=\"data row3 col7\" >0.00</td>\n",
       "      <td id=\"T_a35fd_row3_col8\" class=\"data row3 col8\" >-0.41</td>\n",
       "      <td id=\"T_a35fd_row3_col9\" class=\"data row3 col9\" >0.24</td>\n",
       "      <td id=\"T_a35fd_row3_col10\" class=\"data row3 col10\" >-0.21</td>\n",
       "      <td id=\"T_a35fd_row3_col11\" class=\"data row3 col11\" >-0.05</td>\n",
       "      <td id=\"T_a35fd_row3_col12\" class=\"data row3 col12\" >0.37</td>\n",
       "      <td id=\"T_a35fd_row3_col13\" class=\"data row3 col13\" >-0.33</td>\n",
       "    </tr>\n",
       "    <tr>\n",
       "      <th id=\"T_a35fd_level0_row4\" class=\"row_heading level0 row4\" >beras</th>\n",
       "      <td id=\"T_a35fd_row4_col0\" class=\"data row4 col0\" >0.16</td>\n",
       "      <td id=\"T_a35fd_row4_col1\" class=\"data row4 col1\" >-0.36</td>\n",
       "      <td id=\"T_a35fd_row4_col2\" class=\"data row4 col2\" >-0.42</td>\n",
       "      <td id=\"T_a35fd_row4_col3\" class=\"data row4 col3\" >-0.41</td>\n",
       "      <td id=\"T_a35fd_row4_col4\" class=\"data row4 col4\" >1.00</td>\n",
       "      <td id=\"T_a35fd_row4_col5\" class=\"data row4 col5\" >-0.05</td>\n",
       "      <td id=\"T_a35fd_row4_col6\" class=\"data row4 col6\" >0.45</td>\n",
       "      <td id=\"T_a35fd_row4_col7\" class=\"data row4 col7\" >0.04</td>\n",
       "      <td id=\"T_a35fd_row4_col8\" class=\"data row4 col8\" >1.00</td>\n",
       "      <td id=\"T_a35fd_row4_col9\" class=\"data row4 col9\" >-0.47</td>\n",
       "      <td id=\"T_a35fd_row4_col10\" class=\"data row4 col10\" >0.08</td>\n",
       "      <td id=\"T_a35fd_row4_col11\" class=\"data row4 col11\" >0.14</td>\n",
       "      <td id=\"T_a35fd_row4_col12\" class=\"data row4 col12\" >-0.71</td>\n",
       "      <td id=\"T_a35fd_row4_col13\" class=\"data row4 col13\" >0.42</td>\n",
       "    </tr>\n",
       "    <tr>\n",
       "      <th id=\"T_a35fd_level0_row5\" class=\"row_heading level0 row5\" >bawang putih</th>\n",
       "      <td id=\"T_a35fd_row5_col0\" class=\"data row5 col0\" >0.01</td>\n",
       "      <td id=\"T_a35fd_row5_col1\" class=\"data row5 col1\" >-0.22</td>\n",
       "      <td id=\"T_a35fd_row5_col2\" class=\"data row5 col2\" >-0.20</td>\n",
       "      <td id=\"T_a35fd_row5_col3\" class=\"data row5 col3\" >-0.20</td>\n",
       "      <td id=\"T_a35fd_row5_col4\" class=\"data row5 col4\" >-0.05</td>\n",
       "      <td id=\"T_a35fd_row5_col5\" class=\"data row5 col5\" >1.00</td>\n",
       "      <td id=\"T_a35fd_row5_col6\" class=\"data row5 col6\" >0.42</td>\n",
       "      <td id=\"T_a35fd_row5_col7\" class=\"data row5 col7\" >0.21</td>\n",
       "      <td id=\"T_a35fd_row5_col8\" class=\"data row5 col8\" >-0.05</td>\n",
       "      <td id=\"T_a35fd_row5_col9\" class=\"data row5 col9\" >-0.20</td>\n",
       "      <td id=\"T_a35fd_row5_col10\" class=\"data row5 col10\" >-0.04</td>\n",
       "      <td id=\"T_a35fd_row5_col11\" class=\"data row5 col11\" >0.14</td>\n",
       "      <td id=\"T_a35fd_row5_col12\" class=\"data row5 col12\" >-0.39</td>\n",
       "      <td id=\"T_a35fd_row5_col13\" class=\"data row5 col13\" >0.63</td>\n",
       "    </tr>\n",
       "    <tr>\n",
       "      <th id=\"T_a35fd_level0_row6\" class=\"row_heading level0 row6\" >bawang merah</th>\n",
       "      <td id=\"T_a35fd_row6_col0\" class=\"data row6 col0\" >-0.03</td>\n",
       "      <td id=\"T_a35fd_row6_col1\" class=\"data row6 col1\" >-0.27</td>\n",
       "      <td id=\"T_a35fd_row6_col2\" class=\"data row6 col2\" >-0.21</td>\n",
       "      <td id=\"T_a35fd_row6_col3\" class=\"data row6 col3\" >-0.21</td>\n",
       "      <td id=\"T_a35fd_row6_col4\" class=\"data row6 col4\" >0.45</td>\n",
       "      <td id=\"T_a35fd_row6_col5\" class=\"data row6 col5\" >0.42</td>\n",
       "      <td id=\"T_a35fd_row6_col6\" class=\"data row6 col6\" >1.00</td>\n",
       "      <td id=\"T_a35fd_row6_col7\" class=\"data row6 col7\" >-0.22</td>\n",
       "      <td id=\"T_a35fd_row6_col8\" class=\"data row6 col8\" >0.45</td>\n",
       "      <td id=\"T_a35fd_row6_col9\" class=\"data row6 col9\" >-0.14</td>\n",
       "      <td id=\"T_a35fd_row6_col10\" class=\"data row6 col10\" >0.28</td>\n",
       "      <td id=\"T_a35fd_row6_col11\" class=\"data row6 col11\" >-0.02</td>\n",
       "      <td id=\"T_a35fd_row6_col12\" class=\"data row6 col12\" >-0.60</td>\n",
       "      <td id=\"T_a35fd_row6_col13\" class=\"data row6 col13\" >0.86</td>\n",
       "    </tr>\n",
       "    <tr>\n",
       "      <th id=\"T_a35fd_level0_row7\" class=\"row_heading level0 row7\" >cabai merah</th>\n",
       "      <td id=\"T_a35fd_row7_col0\" class=\"data row7 col0\" >-0.02</td>\n",
       "      <td id=\"T_a35fd_row7_col1\" class=\"data row7 col1\" >-0.01</td>\n",
       "      <td id=\"T_a35fd_row7_col2\" class=\"data row7 col2\" >-0.03</td>\n",
       "      <td id=\"T_a35fd_row7_col3\" class=\"data row7 col3\" >0.00</td>\n",
       "      <td id=\"T_a35fd_row7_col4\" class=\"data row7 col4\" >0.04</td>\n",
       "      <td id=\"T_a35fd_row7_col5\" class=\"data row7 col5\" >0.21</td>\n",
       "      <td id=\"T_a35fd_row7_col6\" class=\"data row7 col6\" >-0.22</td>\n",
       "      <td id=\"T_a35fd_row7_col7\" class=\"data row7 col7\" >1.00</td>\n",
       "      <td id=\"T_a35fd_row7_col8\" class=\"data row7 col8\" >0.04</td>\n",
       "      <td id=\"T_a35fd_row7_col9\" class=\"data row7 col9\" >-0.14</td>\n",
       "      <td id=\"T_a35fd_row7_col10\" class=\"data row7 col10\" >0.26</td>\n",
       "      <td id=\"T_a35fd_row7_col11\" class=\"data row7 col11\" >0.27</td>\n",
       "      <td id=\"T_a35fd_row7_col12\" class=\"data row7 col12\" >0.07</td>\n",
       "      <td id=\"T_a35fd_row7_col13\" class=\"data row7 col13\" >-0.28</td>\n",
       "    </tr>\n",
       "    <tr>\n",
       "      <th id=\"T_a35fd_level0_row8\" class=\"row_heading level0 row8\" >cabai rawit</th>\n",
       "      <td id=\"T_a35fd_row8_col0\" class=\"data row8 col0\" >0.16</td>\n",
       "      <td id=\"T_a35fd_row8_col1\" class=\"data row8 col1\" >-0.36</td>\n",
       "      <td id=\"T_a35fd_row8_col2\" class=\"data row8 col2\" >-0.42</td>\n",
       "      <td id=\"T_a35fd_row8_col3\" class=\"data row8 col3\" >-0.41</td>\n",
       "      <td id=\"T_a35fd_row8_col4\" class=\"data row8 col4\" >1.00</td>\n",
       "      <td id=\"T_a35fd_row8_col5\" class=\"data row8 col5\" >-0.05</td>\n",
       "      <td id=\"T_a35fd_row8_col6\" class=\"data row8 col6\" >0.45</td>\n",
       "      <td id=\"T_a35fd_row8_col7\" class=\"data row8 col7\" >0.04</td>\n",
       "      <td id=\"T_a35fd_row8_col8\" class=\"data row8 col8\" >1.00</td>\n",
       "      <td id=\"T_a35fd_row8_col9\" class=\"data row8 col9\" >-0.47</td>\n",
       "      <td id=\"T_a35fd_row8_col10\" class=\"data row8 col10\" >0.08</td>\n",
       "      <td id=\"T_a35fd_row8_col11\" class=\"data row8 col11\" >0.14</td>\n",
       "      <td id=\"T_a35fd_row8_col12\" class=\"data row8 col12\" >-0.71</td>\n",
       "      <td id=\"T_a35fd_row8_col13\" class=\"data row8 col13\" >0.42</td>\n",
       "    </tr>\n",
       "    <tr>\n",
       "      <th id=\"T_a35fd_level0_row9\" class=\"row_heading level0 row9\" >daging sapi</th>\n",
       "      <td id=\"T_a35fd_row9_col0\" class=\"data row9 col0\" >-0.00</td>\n",
       "      <td id=\"T_a35fd_row9_col1\" class=\"data row9 col1\" >0.28</td>\n",
       "      <td id=\"T_a35fd_row9_col2\" class=\"data row9 col2\" >0.29</td>\n",
       "      <td id=\"T_a35fd_row9_col3\" class=\"data row9 col3\" >0.24</td>\n",
       "      <td id=\"T_a35fd_row9_col4\" class=\"data row9 col4\" >-0.47</td>\n",
       "      <td id=\"T_a35fd_row9_col5\" class=\"data row9 col5\" >-0.20</td>\n",
       "      <td id=\"T_a35fd_row9_col6\" class=\"data row9 col6\" >-0.14</td>\n",
       "      <td id=\"T_a35fd_row9_col7\" class=\"data row9 col7\" >-0.14</td>\n",
       "      <td id=\"T_a35fd_row9_col8\" class=\"data row9 col8\" >-0.47</td>\n",
       "      <td id=\"T_a35fd_row9_col9\" class=\"data row9 col9\" >1.00</td>\n",
       "      <td id=\"T_a35fd_row9_col10\" class=\"data row9 col10\" >0.34</td>\n",
       "      <td id=\"T_a35fd_row9_col11\" class=\"data row9 col11\" >-0.21</td>\n",
       "      <td id=\"T_a35fd_row9_col12\" class=\"data row9 col12\" >0.65</td>\n",
       "      <td id=\"T_a35fd_row9_col13\" class=\"data row9 col13\" >-0.34</td>\n",
       "    </tr>\n",
       "    <tr>\n",
       "      <th id=\"T_a35fd_level0_row10\" class=\"row_heading level0 row10\" >daging ayam</th>\n",
       "      <td id=\"T_a35fd_row10_col0\" class=\"data row10 col0\" >0.10</td>\n",
       "      <td id=\"T_a35fd_row10_col1\" class=\"data row10 col1\" >-0.17</td>\n",
       "      <td id=\"T_a35fd_row10_col2\" class=\"data row10 col2\" >-0.22</td>\n",
       "      <td id=\"T_a35fd_row10_col3\" class=\"data row10 col3\" >-0.21</td>\n",
       "      <td id=\"T_a35fd_row10_col4\" class=\"data row10 col4\" >0.08</td>\n",
       "      <td id=\"T_a35fd_row10_col5\" class=\"data row10 col5\" >-0.04</td>\n",
       "      <td id=\"T_a35fd_row10_col6\" class=\"data row10 col6\" >0.28</td>\n",
       "      <td id=\"T_a35fd_row10_col7\" class=\"data row10 col7\" >0.26</td>\n",
       "      <td id=\"T_a35fd_row10_col8\" class=\"data row10 col8\" >0.08</td>\n",
       "      <td id=\"T_a35fd_row10_col9\" class=\"data row10 col9\" >0.34</td>\n",
       "      <td id=\"T_a35fd_row10_col10\" class=\"data row10 col10\" >1.00</td>\n",
       "      <td id=\"T_a35fd_row10_col11\" class=\"data row10 col11\" >0.19</td>\n",
       "      <td id=\"T_a35fd_row10_col12\" class=\"data row10 col12\" >0.02</td>\n",
       "      <td id=\"T_a35fd_row10_col13\" class=\"data row10 col13\" >0.05</td>\n",
       "    </tr>\n",
       "    <tr>\n",
       "      <th id=\"T_a35fd_level0_row11\" class=\"row_heading level0 row11\" >telur ayam</th>\n",
       "      <td id=\"T_a35fd_row11_col0\" class=\"data row11 col0\" >-0.02</td>\n",
       "      <td id=\"T_a35fd_row11_col1\" class=\"data row11 col1\" >-0.07</td>\n",
       "      <td id=\"T_a35fd_row11_col2\" class=\"data row11 col2\" >-0.04</td>\n",
       "      <td id=\"T_a35fd_row11_col3\" class=\"data row11 col3\" >-0.05</td>\n",
       "      <td id=\"T_a35fd_row11_col4\" class=\"data row11 col4\" >0.14</td>\n",
       "      <td id=\"T_a35fd_row11_col5\" class=\"data row11 col5\" >0.14</td>\n",
       "      <td id=\"T_a35fd_row11_col6\" class=\"data row11 col6\" >-0.02</td>\n",
       "      <td id=\"T_a35fd_row11_col7\" class=\"data row11 col7\" >0.27</td>\n",
       "      <td id=\"T_a35fd_row11_col8\" class=\"data row11 col8\" >0.14</td>\n",
       "      <td id=\"T_a35fd_row11_col9\" class=\"data row11 col9\" >-0.21</td>\n",
       "      <td id=\"T_a35fd_row11_col10\" class=\"data row11 col10\" >0.19</td>\n",
       "      <td id=\"T_a35fd_row11_col11\" class=\"data row11 col11\" >1.00</td>\n",
       "      <td id=\"T_a35fd_row11_col12\" class=\"data row11 col12\" >-0.28</td>\n",
       "      <td id=\"T_a35fd_row11_col13\" class=\"data row11 col13\" >0.06</td>\n",
       "    </tr>\n",
       "    <tr>\n",
       "      <th id=\"T_a35fd_level0_row12\" class=\"row_heading level0 row12\" >minyak goreng</th>\n",
       "      <td id=\"T_a35fd_row12_col0\" class=\"data row12 col0\" >-0.03</td>\n",
       "      <td id=\"T_a35fd_row12_col1\" class=\"data row12 col1\" >0.40</td>\n",
       "      <td id=\"T_a35fd_row12_col2\" class=\"data row12 col2\" >0.42</td>\n",
       "      <td id=\"T_a35fd_row12_col3\" class=\"data row12 col3\" >0.37</td>\n",
       "      <td id=\"T_a35fd_row12_col4\" class=\"data row12 col4\" >-0.71</td>\n",
       "      <td id=\"T_a35fd_row12_col5\" class=\"data row12 col5\" >-0.39</td>\n",
       "      <td id=\"T_a35fd_row12_col6\" class=\"data row12 col6\" >-0.60</td>\n",
       "      <td id=\"T_a35fd_row12_col7\" class=\"data row12 col7\" >0.07</td>\n",
       "      <td id=\"T_a35fd_row12_col8\" class=\"data row12 col8\" >-0.71</td>\n",
       "      <td id=\"T_a35fd_row12_col9\" class=\"data row12 col9\" >0.65</td>\n",
       "      <td id=\"T_a35fd_row12_col10\" class=\"data row12 col10\" >0.02</td>\n",
       "      <td id=\"T_a35fd_row12_col11\" class=\"data row12 col11\" >-0.28</td>\n",
       "      <td id=\"T_a35fd_row12_col12\" class=\"data row12 col12\" >1.00</td>\n",
       "      <td id=\"T_a35fd_row12_col13\" class=\"data row12 col13\" >-0.75</td>\n",
       "    </tr>\n",
       "    <tr>\n",
       "      <th id=\"T_a35fd_level0_row13\" class=\"row_heading level0 row13\" >gula pasir</th>\n",
       "      <td id=\"T_a35fd_row13_col0\" class=\"data row13 col0\" >0.01</td>\n",
       "      <td id=\"T_a35fd_row13_col1\" class=\"data row13 col1\" >-0.38</td>\n",
       "      <td id=\"T_a35fd_row13_col2\" class=\"data row13 col2\" >-0.34</td>\n",
       "      <td id=\"T_a35fd_row13_col3\" class=\"data row13 col3\" >-0.33</td>\n",
       "      <td id=\"T_a35fd_row13_col4\" class=\"data row13 col4\" >0.42</td>\n",
       "      <td id=\"T_a35fd_row13_col5\" class=\"data row13 col5\" >0.63</td>\n",
       "      <td id=\"T_a35fd_row13_col6\" class=\"data row13 col6\" >0.86</td>\n",
       "      <td id=\"T_a35fd_row13_col7\" class=\"data row13 col7\" >-0.28</td>\n",
       "      <td id=\"T_a35fd_row13_col8\" class=\"data row13 col8\" >0.42</td>\n",
       "      <td id=\"T_a35fd_row13_col9\" class=\"data row13 col9\" >-0.34</td>\n",
       "      <td id=\"T_a35fd_row13_col10\" class=\"data row13 col10\" >0.05</td>\n",
       "      <td id=\"T_a35fd_row13_col11\" class=\"data row13 col11\" >0.06</td>\n",
       "      <td id=\"T_a35fd_row13_col12\" class=\"data row13 col12\" >-0.75</td>\n",
       "      <td id=\"T_a35fd_row13_col13\" class=\"data row13 col13\" >1.00</td>\n",
       "    </tr>\n",
       "  </tbody>\n",
       "</table>\n"
      ],
      "text/plain": [
       "<pandas.io.formats.style.Styler at 0x1b3f10bfc40>"
      ]
     },
     "execution_count": 32,
     "metadata": {},
     "output_type": "execute_result"
    }
   ],
   "source": [
    "cmap = cmap=sns.diverging_palette(5, 250, as_cmap=True)\n",
    "\n",
    "def magnify():\n",
    "    return [dict(selector=\"th\",\n",
    "                 props=[(\"font-size\", \"7pt\")]),\n",
    "            dict(selector=\"td\",\n",
    "                 props=[('padding', \"0em 0em\")]),\n",
    "            dict(selector=\"th:hover\",\n",
    "                 props=[(\"font-size\", \"12pt\")]),\n",
    "            dict(selector=\"tr:hover td:hover\",\n",
    "                 props=[('max-width', '200px'),\n",
    "                        ('font-size', '12pt')])\n",
    "]\n",
    "\n",
    "corr.style.background_gradient(cmap, axis=1)\\\n",
    "    .set_properties(**{'max-width': '80px', 'font-size': '10pt'})\\\n",
    "    .set_caption(\"Hover to magify\")\\\n",
    "    .set_precision(2)\\\n",
    "    .set_table_styles(magnify())"
   ]
  },
  {
   "cell_type": "markdown",
   "id": "a043b7c2",
   "metadata": {},
   "source": [
    "we take some value with moderate correlation to data kasus, such as \n",
    "1. beras \n",
    "2. cabai rawit\n",
    "3. minyak goreng\n",
    "4. gula pasir\n"
   ]
  },
  {
   "cell_type": "code",
   "execution_count": 133,
   "id": "9f593fd3",
   "metadata": {},
   "outputs": [],
   "source": [
    "beras = pd.read_csv('beras.csv')\n",
    "cabai_r = pd.read_csv('cabai rawit.csv')\n",
    "minyakg = pd.read_csv('minyagoreng.csv')\n",
    "gulap    = pd.read_csv('gula pasir.csv')"
   ]
  },
  {
   "cell_type": "markdown",
   "id": "20e5edc0",
   "metadata": {},
   "source": [
    "## HARGA BERAS"
   ]
  },
  {
   "cell_type": "code",
   "execution_count": 134,
   "id": "f4bc6c97",
   "metadata": {},
   "outputs": [],
   "source": [
    "## Beras\n",
    "import datetime as dt\n",
    "\n",
    "\n",
    "beras['month'] = pd.DatetimeIndex(beras['date']).month.astype('str')\n",
    "beras['year'] = pd.DatetimeIndex(beras['date']).year.astype('str')\n",
    "# making copy of team column\n",
    "new = beras[\"month\"].copy()\n",
    " \n",
    "# concatenating team with name column\n",
    "# overwriting name column\n",
    "beras[\"month_year\"]= beras[\"year\"].str.cat(new, sep =\"-\")"
   ]
  },
  {
   "cell_type": "code",
   "execution_count": 135,
   "id": "0965107b",
   "metadata": {},
   "outputs": [
    {
     "name": "stdout",
     "output_type": "stream",
     "text": [
      "<class 'pandas.core.frame.DataFrame'>\n",
      "RangeIndex: 205 entries, 0 to 204\n",
      "Data columns (total 7 columns):\n",
      " #   Column      Non-Null Count  Dtype \n",
      "---  ------      --------------  ----- \n",
      " 0   date        205 non-null    object\n",
      " 1   tahun       205 non-null    int64 \n",
      " 2   price       205 non-null    int64 \n",
      " 3   delta       205 non-null    int64 \n",
      " 4   month       205 non-null    object\n",
      " 5   year        205 non-null    object\n",
      " 6   month_year  205 non-null    object\n",
      "dtypes: int64(3), object(4)\n",
      "memory usage: 11.3+ KB\n"
     ]
    }
   ],
   "source": [
    "beras.head()\n",
    "beras.info()"
   ]
  },
  {
   "cell_type": "code",
   "execution_count": 136,
   "id": "345cbe18",
   "metadata": {},
   "outputs": [
    {
     "name": "stderr",
     "output_type": "stream",
     "text": [
      "<ipython-input-136-e8a28345e315>:1: FutureWarning: Dropping of nuisance columns in DataFrame reductions (with 'numeric_only=None') is deprecated; in a future version this will raise TypeError.  Select only valid columns before calling the reduction.\n",
      "  harga_2018 = beras[beras['tahun']==2018].mean()['price']\n",
      "<ipython-input-136-e8a28345e315>:2: FutureWarning: Dropping of nuisance columns in DataFrame reductions (with 'numeric_only=None') is deprecated; in a future version this will raise TypeError.  Select only valid columns before calling the reduction.\n",
      "  harga_2019 = beras[beras['tahun']==2019].mean()['price']\n",
      "<ipython-input-136-e8a28345e315>:3: FutureWarning: Dropping of nuisance columns in DataFrame reductions (with 'numeric_only=None') is deprecated; in a future version this will raise TypeError.  Select only valid columns before calling the reduction.\n",
      "  harga_2020 = beras[beras['tahun']==2020].mean()['price']\n",
      "<ipython-input-136-e8a28345e315>:4: FutureWarning: Dropping of nuisance columns in DataFrame reductions (with 'numeric_only=None') is deprecated; in a future version this will raise TypeError.  Select only valid columns before calling the reduction.\n",
      "  harga_2021 = beras[beras['tahun']==2021].mean()['price']\n"
     ]
    }
   ],
   "source": [
    "harga_2018 = beras[beras['tahun']==2018].mean()['price']\n",
    "harga_2019 = beras[beras['tahun']==2019].mean()['price']\n",
    "harga_2020 = beras[beras['tahun']==2020].mean()['price']\n",
    "harga_2021 = beras[beras['tahun']==2021].mean()['price']"
   ]
  },
  {
   "cell_type": "code",
   "execution_count": 137,
   "id": "b3d355c1",
   "metadata": {},
   "outputs": [],
   "source": [
    "perubahanharga2018_2019 = ((harga_2019 - harga_2018) / harga_2018)\n",
    "perubahanharga2019_2020 = ((harga_2020 - harga_2019) / harga_2019)\n",
    "perubahanharga2020_2021 = ((harga_2021 - harga_2020) / harga_2020)"
   ]
  },
  {
   "cell_type": "code",
   "execution_count": 138,
   "id": "8ee6ffa3",
   "metadata": {},
   "outputs": [
    {
     "name": "stdout",
     "output_type": "stream",
     "text": [
      "informasi pergerakan harga besar sebelum dan setelah covid\n",
      "percentage perubahan harga 2018 - 2019 : -3.7%\n",
      "percentage perubahan harga 2019 - 2020 : 5.6%\n",
      "percentage perubahan harga 2020 - 2021 : -0.3%\n"
     ]
    }
   ],
   "source": [
    "print('informasi pergerakan harga besar sebelum dan setelah covid')\n",
    "print('percentage perubahan harga 2018 - 2019 :',\"{00:.1%}\".format(perubahanharga2018_2019))\n",
    "print('percentage perubahan harga 2019 - 2020 :',\"{00:.1%}\".format(perubahanharga2019_2020))\n",
    "print('percentage perubahan harga 2020 - 2021 :',\"{00:.1%}\".format(perubahanharga2020_2021))\n",
    "\n",
    "\n"
   ]
  },
  {
   "cell_type": "code",
   "execution_count": 139,
   "id": "8a3d8624",
   "metadata": {},
   "outputs": [
    {
     "name": "stderr",
     "output_type": "stream",
     "text": [
      "C:\\Users\\Ramdhan Nur Cahyadi\\anaconda3\\lib\\site-packages\\seaborn\\_decorators.py:36: FutureWarning: Pass the following variables as keyword args: x, y. From version 0.12, the only valid positional argument will be `data`, and passing other arguments without an explicit keyword will result in an error or misinterpretation.\n",
      "  warnings.warn(\n"
     ]
    },
    {
     "data": {
      "image/png": "[encoded data removed]",
      "text/plain": [
       "<Figure size 1440x576 with 1 Axes>"
      ]
     },
     "metadata": {
      "needs_background": "light"
     },
     "output_type": "display_data"
    }
   ],
   "source": [
    "fig, ax = plt.subplots(figsize=(20, 8));\n",
    "x = beras['year']\n",
    "y = beras['delta']\n",
    "\n",
    "\n",
    "sns.lineplot(x, y)\n",
    "plt.show()\n"
   ]
  },
  {
   "cell_type": "markdown",
   "id": "608741b0",
   "metadata": {},
   "source": [
    "## Harga Cabai Rawit"
   ]
  },
  {
   "cell_type": "code",
   "execution_count": 140,
   "id": "5d3fc4b3",
   "metadata": {},
   "outputs": [],
   "source": [
    "cabai_r['month'] = pd.DatetimeIndex(cabai_r['date']).month.astype('str')\n",
    "cabai_r['year'] = pd.DatetimeIndex(cabai_r['date']).year.astype('str')\n",
    "# making copy of team column\n",
    "new = cabai_r[\"month\"].copy()\n",
    " \n",
    "# concatenating team with name column\n",
    "# overwriting name column\n",
    "cabai_r[\"month_year\"]= cabai_r[\"year\"].str.cat(new, sep =\"-\")"
   ]
  },
  {
   "cell_type": "code",
   "execution_count": 141,
   "id": "32312171",
   "metadata": {},
   "outputs": [
    {
     "name": "stdout",
     "output_type": "stream",
     "text": [
      "<class 'pandas.core.frame.DataFrame'>\n",
      "RangeIndex: 205 entries, 0 to 204\n",
      "Data columns (total 6 columns):\n",
      " #   Column      Non-Null Count  Dtype \n",
      "---  ------      --------------  ----- \n",
      " 0   date        205 non-null    object\n",
      " 1   year        205 non-null    object\n",
      " 2   price       205 non-null    int64 \n",
      " 3   delta       205 non-null    int64 \n",
      " 4   month       205 non-null    object\n",
      " 5   month_year  205 non-null    object\n",
      "dtypes: int64(2), object(4)\n",
      "memory usage: 9.7+ KB\n"
     ]
    }
   ],
   "source": [
    "cabai_r.head()\n",
    "cabai_r.info()"
   ]
  },
  {
   "cell_type": "code",
   "execution_count": 142,
   "id": "e1b0eb72",
   "metadata": {},
   "outputs": [
    {
     "name": "stderr",
     "output_type": "stream",
     "text": [
      "<ipython-input-142-cd4c58720644>:1: FutureWarning: Dropping of nuisance columns in DataFrame reductions (with 'numeric_only=None') is deprecated; in a future version this will raise TypeError.  Select only valid columns before calling the reduction.\n",
      "  cabai_rharga_2018 = cabai_r[cabai_r['year']=='2018'].mean()['price']\n",
      "<ipython-input-142-cd4c58720644>:2: FutureWarning: Dropping of nuisance columns in DataFrame reductions (with 'numeric_only=None') is deprecated; in a future version this will raise TypeError.  Select only valid columns before calling the reduction.\n",
      "  cabai_rharga_2019 = cabai_r[cabai_r['year']=='2019'].mean()['price']\n",
      "<ipython-input-142-cd4c58720644>:3: FutureWarning: Dropping of nuisance columns in DataFrame reductions (with 'numeric_only=None') is deprecated; in a future version this will raise TypeError.  Select only valid columns before calling the reduction.\n",
      "  cabai_rharga_2020 = cabai_r[cabai_r['year']=='2020'].mean()['price']\n",
      "<ipython-input-142-cd4c58720644>:4: FutureWarning: Dropping of nuisance columns in DataFrame reductions (with 'numeric_only=None') is deprecated; in a future version this will raise TypeError.  Select only valid columns before calling the reduction.\n",
      "  cabai_rharga_2021 = cabai_r[cabai_r['year']=='2021'].mean()['price']\n"
     ]
    }
   ],
   "source": [
    "cabai_rharga_2018 = cabai_r[cabai_r['year']=='2018'].mean()['price']\n",
    "cabai_rharga_2019 = cabai_r[cabai_r['year']=='2019'].mean()['price']\n",
    "cabai_rharga_2020 = cabai_r[cabai_r['year']=='2020'].mean()['price']\n",
    "cabai_rharga_2021 = cabai_r[cabai_r['year']=='2021'].mean()['price']"
   ]
  },
  {
   "cell_type": "code",
   "execution_count": 143,
   "id": "26240638",
   "metadata": {},
   "outputs": [],
   "source": [
    "cabai_rperubahanharga2018_2019 = ((cabai_rharga_2019 - cabai_rharga_2018) / cabai_rharga_2018)\n",
    "cabai_rperubahanharga2019_2020 = ((cabai_rharga_2020 - cabai_rharga_2019) / cabai_rharga_2019)\n",
    "cabai_rperubahanharga2020_2021 = ((cabai_rharga_2021 - cabai_rharga_2020) / cabai_rharga_2020)"
   ]
  },
  {
   "cell_type": "code",
   "execution_count": 150,
   "id": "8ba539e5",
   "metadata": {},
   "outputs": [
    {
     "name": "stdout",
     "output_type": "stream",
     "text": [
      "informasi pergerakan harga cabai rawit sebelum dan setelah covid\n",
      "percentage perubahan harga 2018 - 2019 : -3.7%\n",
      "percentage perubahan harga 2019 - 2020 : 5.7%\n",
      "percentage perubahan harga 2020 - 2021 : -0.4%\n"
     ]
    }
   ],
   "source": [
    "print('informasi pergerakan harga cabai rawit sebelum dan setelah covid')\n",
    "print('percentage perubahan harga 2018 - 2019 :',\"{00:.1%}\".format(cabai_rperubahanharga2018_2019))\n",
    "print('percentage perubahan harga 2019 - 2020 :',\"{00:.1%}\".format(cabai_rperubahanharga2019_2020))\n",
    "print('percentage perubahan harga 2020 - 2021 :',\"{00:.1%}\".format(cabai_rperubahanharga2020_2021))"
   ]
  },
  {
   "cell_type": "code",
   "execution_count": 145,
   "id": "a112fb30",
   "metadata": {},
   "outputs": [
    {
     "name": "stderr",
     "output_type": "stream",
     "text": [
      "C:\\Users\\Ramdhan Nur Cahyadi\\anaconda3\\lib\\site-packages\\seaborn\\_decorators.py:36: FutureWarning: Pass the following variables as keyword args: x, y. From version 0.12, the only valid positional argument will be `data`, and passing other arguments without an explicit keyword will result in an error or misinterpretation.\n",
      "  warnings.warn(\n"
     ]
    },
    {
     "data": {
      "image/png": "[encoded data removed]",
      "text/plain": [
       "<Figure size 1440x576 with 1 Axes>"
      ]
     },
     "metadata": {
      "needs_background": "light"
     },
     "output_type": "display_data"
    }
   ],
   "source": [
    "fig, ax = plt.subplots(figsize=(20, 8));\n",
    "x = cabai_r['year']\n",
    "y = cabai_r['delta']\n",
    "\n",
    "\n",
    "sns.lineplot(x, y)\n",
    "plt.show()"
   ]
  },
  {
   "cell_type": "markdown",
   "id": "16f1169d",
   "metadata": {},
   "source": [
    "## Harga Minyak Goreng"
   ]
  },
  {
   "cell_type": "code",
   "execution_count": 146,
   "id": "e5f35154",
   "metadata": {},
   "outputs": [],
   "source": [
    "minyakg['month'] = pd.DatetimeIndex(minyakg['date']).month.astype('str')\n",
    "minyakg['year'] = pd.DatetimeIndex(minyakg['date']).year.astype('str')\n",
    "# making copy of team column\n",
    "new = minyakg[\"month\"].copy()\n",
    " \n",
    "# concatenating team with name column\n",
    "# overwriting name column\n",
    "minyakg[\"month_year\"]= minyakg[\"year\"].str.cat(new, sep =\"-\")"
   ]
  },
  {
   "cell_type": "code",
   "execution_count": 147,
   "id": "0ac45dd6",
   "metadata": {},
   "outputs": [
    {
     "name": "stdout",
     "output_type": "stream",
     "text": [
      "<class 'pandas.core.frame.DataFrame'>\n",
      "RangeIndex: 205 entries, 0 to 204\n",
      "Data columns (total 6 columns):\n",
      " #   Column      Non-Null Count  Dtype \n",
      "---  ------      --------------  ----- \n",
      " 0   date        205 non-null    object\n",
      " 1   year        205 non-null    object\n",
      " 2   price       205 non-null    int64 \n",
      " 3   delta       205 non-null    int64 \n",
      " 4   month       205 non-null    object\n",
      " 5   month_year  205 non-null    object\n",
      "dtypes: int64(2), object(4)\n",
      "memory usage: 9.7+ KB\n"
     ]
    }
   ],
   "source": [
    "minyakg.head()\n",
    "minyakg.info()"
   ]
  },
  {
   "cell_type": "code",
   "execution_count": 162,
   "id": "c7871424",
   "metadata": {},
   "outputs": [
    {
     "name": "stderr",
     "output_type": "stream",
     "text": [
      "<ipython-input-162-cff81f0fd1a9>:1: FutureWarning: Dropping of nuisance columns in DataFrame reductions (with 'numeric_only=None') is deprecated; in a future version this will raise TypeError.  Select only valid columns before calling the reduction.\n",
      "  minyakg_harga_2018 = minyakg[minyakg['year']=='2018'].mean()['price']\n",
      "<ipython-input-162-cff81f0fd1a9>:2: FutureWarning: Dropping of nuisance columns in DataFrame reductions (with 'numeric_only=None') is deprecated; in a future version this will raise TypeError.  Select only valid columns before calling the reduction.\n",
      "  minyakg_harga_2019 = minyakg[minyakg['year']=='2019'].mean()['price']\n",
      "<ipython-input-162-cff81f0fd1a9>:3: FutureWarning: Dropping of nuisance columns in DataFrame reductions (with 'numeric_only=None') is deprecated; in a future version this will raise TypeError.  Select only valid columns before calling the reduction.\n",
      "  minyakg_harga_2020 = minyakg[minyakg['year']=='2020'].mean()['price']\n",
      "<ipython-input-162-cff81f0fd1a9>:4: FutureWarning: Dropping of nuisance columns in DataFrame reductions (with 'numeric_only=None') is deprecated; in a future version this will raise TypeError.  Select only valid columns before calling the reduction.\n",
      "  minyakg_harga_2021 = minyakg[minyakg['year']=='2021'].mean()['price']\n"
     ]
    }
   ],
   "source": [
    "minyakg_harga_2018 = minyakg[minyakg['year']=='2018'].mean()['price']\n",
    "minyakg_harga_2019 = minyakg[minyakg['year']=='2019'].mean()['price']\n",
    "minyakg_harga_2020 = minyakg[minyakg['year']=='2020'].mean()['price']\n",
    "minyakg_harga_2021 = minyakg[minyakg['year']=='2021'].mean()['price']"
   ]
  },
  {
   "cell_type": "code",
   "execution_count": 163,
   "id": "8c0baefe",
   "metadata": {},
   "outputs": [],
   "source": [
    "minyakg_perubahanharga2018_2019 = ((minyakg_harga_2019 - minyakg_harga_2018) / minyakg_harga_2018)\n",
    "minyakg_perubahanharga2019_2020 = ((minyakg_harga_2020 - minyakg_harga_2019) / minyakg_harga_2019)\n",
    "minyakg_perubahanharga2020_2021 = ((minyakg_harga_2021 - minyakg_harga_2020) / minyakg_harga_2020)"
   ]
  },
  {
   "cell_type": "code",
   "execution_count": 164,
   "id": "b4460cc7",
   "metadata": {},
   "outputs": [
    {
     "name": "stdout",
     "output_type": "stream",
     "text": [
      "informasi pergerakan harga minyak goreng sebelum dan setelah covid\n",
      "percentage perubahan harga 2018 - 2019 : -4.0%\n",
      "percentage perubahan harga 2019 - 2020 : 10.4%\n",
      "percentage perubahan harga 2020 - 2021 : 15.2%\n"
     ]
    }
   ],
   "source": [
    "print('informasi pergerakan harga minyak goreng sebelum dan setelah covid')\n",
    "print('percentage perubahan harga 2018 - 2019 :',\"{00:.1%}\".format(minyakg_perubahanharga2018_2019))\n",
    "print('percentage perubahan harga 2019 - 2020 :',\"{00:.1%}\".format(minyakg_perubahanharga2019_2020))\n",
    "print('percentage perubahan harga 2020 - 2021 :',\"{00:.1%}\".format(minyakg_perubahanharga2020_2021))"
   ]
  },
  {
   "cell_type": "code",
   "execution_count": 152,
   "id": "18d540be",
   "metadata": {},
   "outputs": [
    {
     "name": "stderr",
     "output_type": "stream",
     "text": [
      "C:\\Users\\Ramdhan Nur Cahyadi\\anaconda3\\lib\\site-packages\\seaborn\\_decorators.py:36: FutureWarning: Pass the following variables as keyword args: x, y. From version 0.12, the only valid positional argument will be `data`, and passing other arguments without an explicit keyword will result in an error or misinterpretation.\n",
      "  warnings.warn(\n"
     ]
    },
    {
     "data": {
      "image/png": "[encoded data removed]",
      "text/plain": [
       "<Figure size 1440x576 with 1 Axes>"
      ]
     },
     "metadata": {
      "needs_background": "light"
     },
     "output_type": "display_data"
    }
   ],
   "source": [
    "fig, ax = plt.subplots(figsize=(20, 8));\n",
    "x = minyakg['year']\n",
    "y = minyakg['delta']\n",
    "\n",
    "\n",
    "sns.lineplot(x, y)\n",
    "plt.show()"
   ]
  },
  {
   "cell_type": "markdown",
   "id": "5e7fd60b",
   "metadata": {},
   "source": [
    "## Gula Pasir"
   ]
  },
  {
   "cell_type": "code",
   "execution_count": 153,
   "id": "5d1be278",
   "metadata": {},
   "outputs": [],
   "source": [
    "gulap['month'] = pd.DatetimeIndex(gulap['date']).month.astype('str')\n",
    "gulap['year'] = pd.DatetimeIndex(gulap['date']).year.astype('str')\n",
    "# making copy of team column\n",
    "new = gulap[\"month\"].copy()\n",
    " \n",
    "# concatenating team with name column\n",
    "# overwriting name column\n",
    "gulap[\"month_year\"]= gulap[\"year\"].str.cat(new, sep =\"-\")"
   ]
  },
  {
   "cell_type": "code",
   "execution_count": 154,
   "id": "aee1a641",
   "metadata": {},
   "outputs": [
    {
     "name": "stdout",
     "output_type": "stream",
     "text": [
      "<class 'pandas.core.frame.DataFrame'>\n",
      "RangeIndex: 205 entries, 0 to 204\n",
      "Data columns (total 6 columns):\n",
      " #   Column      Non-Null Count  Dtype \n",
      "---  ------      --------------  ----- \n",
      " 0   date        205 non-null    object\n",
      " 1   year        205 non-null    object\n",
      " 2   price       205 non-null    int64 \n",
      " 3   delta       205 non-null    int64 \n",
      " 4   month       205 non-null    object\n",
      " 5   month_year  205 non-null    object\n",
      "dtypes: int64(2), object(4)\n",
      "memory usage: 9.7+ KB\n"
     ]
    }
   ],
   "source": [
    "gulap.head()\n",
    "gulap.info()"
   ]
  },
  {
   "cell_type": "code",
   "execution_count": 155,
   "id": "de2a3cf0",
   "metadata": {},
   "outputs": [
    {
     "name": "stderr",
     "output_type": "stream",
     "text": [
      "<ipython-input-155-a0cba307bee9>:1: FutureWarning: Dropping of nuisance columns in DataFrame reductions (with 'numeric_only=None') is deprecated; in a future version this will raise TypeError.  Select only valid columns before calling the reduction.\n",
      "  gulap_harga_2018 = gulap[gulap['year']=='2018'].mean()['price']\n",
      "<ipython-input-155-a0cba307bee9>:2: FutureWarning: Dropping of nuisance columns in DataFrame reductions (with 'numeric_only=None') is deprecated; in a future version this will raise TypeError.  Select only valid columns before calling the reduction.\n",
      "  gulap_harga_2019 = gulap[gulap['year']=='2019'].mean()['price']\n",
      "<ipython-input-155-a0cba307bee9>:3: FutureWarning: Dropping of nuisance columns in DataFrame reductions (with 'numeric_only=None') is deprecated; in a future version this will raise TypeError.  Select only valid columns before calling the reduction.\n",
      "  gulap_harga_2020 = gulap[gulap['year']=='2020'].mean()['price']\n",
      "<ipython-input-155-a0cba307bee9>:4: FutureWarning: Dropping of nuisance columns in DataFrame reductions (with 'numeric_only=None') is deprecated; in a future version this will raise TypeError.  Select only valid columns before calling the reduction.\n",
      "  gulap_harga_2021 = gulap[gulap['year']=='2021'].mean()['price']\n"
     ]
    }
   ],
   "source": [
    "gulap_harga_2018 = gulap[gulap['year']=='2018'].mean()['price']\n",
    "gulap_harga_2019 = gulap[gulap['year']=='2019'].mean()['price']\n",
    "gulap_harga_2020 = gulap[gulap['year']=='2020'].mean()['price']\n",
    "gulap_harga_2021 = gulap[gulap['year']=='2021'].mean()['price']"
   ]
  },
  {
   "cell_type": "code",
   "execution_count": 156,
   "id": "343da831",
   "metadata": {},
   "outputs": [],
   "source": [
    "gulap_perubahanharga2018_2019 = ((gulap_harga_2019 - gulap_harga_2018) / gulap_harga_2018)\n",
    "gulap_perubahanharga2019_2020 = ((gulap_harga_2020 - gulap_harga_2019) / gulap_harga_2019)\n",
    "gulap_perubahanharga2020_2021 = ((gulap_harga_2021 - gulap_harga_2020) / gulap_harga_2020)"
   ]
  },
  {
   "cell_type": "code",
   "execution_count": 157,
   "id": "e6f9808a",
   "metadata": {},
   "outputs": [
    {
     "name": "stdout",
     "output_type": "stream",
     "text": [
      "informasi pergerakan harga gula pasir sebelum dan setelah covid\n",
      "percentage perubahan harga 2018 - 2019 : 2.5%\n",
      "percentage perubahan harga 2019 - 2020 : 15.6%\n",
      "percentage perubahan harga 2020 - 2021 : -10.1%\n"
     ]
    }
   ],
   "source": [
    "print('informasi pergerakan harga gula pasir sebelum dan setelah covid')\n",
    "print('percentage perubahan harga 2018 - 2019 :',\"{00:.1%}\".format(gulap_perubahanharga2018_2019))\n",
    "print('percentage perubahan harga 2019 - 2020 :',\"{00:.1%}\".format(gulap_perubahanharga2019_2020))\n",
    "print('percentage perubahan harga 2020 - 2021 :',\"{00:.1%}\".format(gulap_perubahanharga2020_2021))"
   ]
  },
  {
   "cell_type": "code",
   "execution_count": 158,
   "id": "de691510",
   "metadata": {},
   "outputs": [
    {
     "name": "stderr",
     "output_type": "stream",
     "text": [
      "C:\\Users\\Ramdhan Nur Cahyadi\\anaconda3\\lib\\site-packages\\seaborn\\_decorators.py:36: FutureWarning: Pass the following variables as keyword args: x, y. From version 0.12, the only valid positional argument will be `data`, and passing other arguments without an explicit keyword will result in an error or misinterpretation.\n",
      "  warnings.warn(\n"
     ]
    },
    {
     "data": {
      "image/png": "[encoded data removed]",
      "text/plain": [
       "<Figure size 1440x576 with 1 Axes>"
      ]
     },
     "metadata": {
      "needs_background": "light"
     },
     "output_type": "display_data"
    }
   ],
   "source": [
    "fig, ax = plt.subplots(figsize=(20, 8));\n",
    "x = gulap['year']\n",
    "y = gulap['delta']\n",
    "\n",
    "\n",
    "sns.lineplot(x, y)\n",
    "plt.show()"
   ]
  },
  {
   "cell_type": "markdown",
   "id": "00e9a30c",
   "metadata": {},
   "source": [
    "jika diliaht dari keempat produk tersebut perubahan signifikan terjadi pada rentan tahun 2019 - 2020, ada beberapa faktor yang mungkin mempengaruhi namun pada analisis ini faktor yang di asumsikan adalah adanya pandemi yang terjadi di tahun 2020 sehingga terjadi perubhan harga dengan keterangan masing masing sebagai berikut\n",
    "\n",
    "\n",
    "Beras : 5.6%\n",
    "\n",
    "Cabai rawit : 5.7%\n",
    "\n",
    "minyak goreng : 10.4%\n",
    "\n",
    "gula pasir : 15.6%"
   ]
  },
  {
   "cell_type": "markdown",
   "id": "41ba37f3",
   "metadata": {},
   "source": [
    "##### uji selanjutnya kita akan mencoba melihat apakah perbedaan yang terjadi itu signifikan atau tidak dengan melakukan uji z, pada tiap tiap produk di tahun 2019 dan 2020"
   ]
  },
  {
   "cell_type": "markdown",
   "id": "64e6bc52",
   "metadata": {},
   "source": [
    "###### h0 = tidak ada nya perbedaan signifikan yang terjadi karena covid 19\n",
    "###### h1 = ada nya perbedaan signifikan yang terjadi karena covid 19"
   ]
  },
  {
   "cell_type": "markdown",
   "id": "3a827a00",
   "metadata": {},
   "source": [
    "alpha yang di gunakan adalah 0.05 krn ini adalah pengujian two tailed maka nilai z table nya adalah \n",
    "\n",
    "alpha = 0.05 / 2 = 0.025\n",
    "\n",
    "1-0.025 = 0.975\n",
    "\n",
    "maka nilai z tableny adalah 1.96 / -1.96"
   ]
  },
  {
   "cell_type": "markdown",
   "id": "e4dbd27b",
   "metadata": {},
   "source": [
    "## Beras"
   ]
  },
  {
   "cell_type": "code",
   "execution_count": 161,
   "id": "00f00f8b",
   "metadata": {},
   "outputs": [],
   "source": [
    "## jumlah data "
   ]
  },
  {
   "cell_type": "code",
   "execution_count": 308,
   "id": "05690b81",
   "metadata": {},
   "outputs": [],
   "source": [
    "beras_2019 =  beras[beras['tahun']==2019]\n",
    "beras_x1 = beras_2019['price'].mean()\n",
    "n_beras_x1= beras_2019['price'].count()\n",
    "beras_x1_stdev = beras_2019['price'].std()\n",
    "\n",
    "beras_2020 =  beras[beras['tahun']==2020]\n",
    "beras_x2 = beras_2020['price'].mean()\n",
    "n_beras_x2 = beras_2020['price'].count()\n",
    "beras_x2_stdev = beras_2020['price'].std()"
   ]
  },
  {
   "cell_type": "code",
   "execution_count": 309,
   "id": "5d9644b5",
   "metadata": {},
   "outputs": [],
   "source": [
    "beras_pembagi_x1 = beras_x1_stdev**2/n_beras_x1\n",
    "beras_pembagi_x2 = beras_x2_stdev**2/n_beras_x2"
   ]
  },
  {
   "cell_type": "code",
   "execution_count": 310,
   "id": "36b2be4d",
   "metadata": {},
   "outputs": [],
   "source": [
    "beras_zhit= ( beras_x2-beras_x1)/math.sqrt(beras_pembagi_x1+beras_pembagi_x2)"
   ]
  },
  {
   "cell_type": "code",
   "execution_count": 311,
   "id": "c7721abf",
   "metadata": {},
   "outputs": [
    {
     "data": {
      "text/plain": [
       "26.03375481479209"
      ]
     },
     "execution_count": 311,
     "metadata": {},
     "output_type": "execute_result"
    }
   ],
   "source": [
    "beras_zhit"
   ]
  },
  {
   "cell_type": "markdown",
   "id": "d029dd65",
   "metadata": {},
   "source": [
    "karena nilai zhit lebih besar dari z table 1.96 maka h0 di tolak yang berarti ada nya perbedeaan yang signifikan terjadi antara 2019 vs 2020"
   ]
  },
  {
   "cell_type": "markdown",
   "id": "63471919",
   "metadata": {},
   "source": [
    "## Cabai Rawit"
   ]
  },
  {
   "cell_type": "code",
   "execution_count": 263,
   "id": "2f76a84e",
   "metadata": {},
   "outputs": [],
   "source": [
    "cabai_r_2019 =  cabai_r[cabai_r['year']=='2019']\n",
    "cabai_x1 = cabai_r_2019['price'].mean()\n",
    "n_cabai_x1= cabai_r_2019['price'].count()\n",
    "cabai_x1_stdev = cabai_r_2019['price'].std()\n",
    "\n",
    "cabai_r_2020 =  cabai_r[cabai_r['year']=='2020']\n",
    "cabai_x2 = cabai_r_2020['price'].mean()\n",
    "n_cabai_x2= cabai_r_2020['price'].count()\n",
    "cabai_x2_stdev = cabai_r_2020['price'].std()"
   ]
  },
  {
   "cell_type": "code",
   "execution_count": 305,
   "id": "d45c4c83",
   "metadata": {},
   "outputs": [],
   "source": [
    "cabai_pembagi_x1 = cabai_x1_stdev**2/n_cabai_x1\n",
    "cabai_pembagi_x2 = cabai_x2_stdev**2/n_cabai_x2"
   ]
  },
  {
   "cell_type": "code",
   "execution_count": 306,
   "id": "0b99fb16",
   "metadata": {},
   "outputs": [],
   "source": [
    "cabai_zhit= ( cabai_x2-cabai_x1)/math.sqrt(minyak_pembagi_x1+minyak_pembagi_x2)"
   ]
  },
  {
   "cell_type": "code",
   "execution_count": 307,
   "id": "be336927",
   "metadata": {},
   "outputs": [
    {
     "data": {
      "text/plain": [
       "10.208366160147063"
      ]
     },
     "execution_count": 307,
     "metadata": {},
     "output_type": "execute_result"
    }
   ],
   "source": [
    "cabai_zhit"
   ]
  },
  {
   "cell_type": "markdown",
   "id": "fff9a0d5",
   "metadata": {},
   "source": [
    "karena nilai zhit lebih besar dari z table 1.96 maka h0 di tolak yang berarti ada nya perbedeaan yang signifikan terjadi antara 2019 vs 2020"
   ]
  },
  {
   "cell_type": "markdown",
   "id": "f73f6ed2",
   "metadata": {},
   "source": [
    "## Minyak Goreng"
   ]
  },
  {
   "cell_type": "code",
   "execution_count": 272,
   "id": "e94772de",
   "metadata": {},
   "outputs": [],
   "source": [
    "minyak_2019 = minyakg[minyakg['year']=='2019']\n",
    "minyak_x1 = minyak_2019['price'].mean()\n",
    "n_minyak_x1= minyak_2019['price'].count()\n",
    "minyak_x1_stdev = minyak_2019['price'].std()\n",
    "\n",
    "minyak_2020 = minyakg[minyakg['year']=='2020']\n",
    "minyak_x2 = minyak_2020['price'].mean()\n",
    "n_minyak_x2= minyak_2020['price'].count()\n",
    "minyak_x2_stdev = minyak_2020['price'].std()"
   ]
  },
  {
   "cell_type": "code",
   "execution_count": 302,
   "id": "2f33da17",
   "metadata": {},
   "outputs": [],
   "source": [
    "minyak_pembagi_x1 = (minyak_x1_stdev**2)/n_minyak_x1\n",
    "minyak_pembagi_x2 = minyak_x2_stdev**2/n_minyak_x2"
   ]
  },
  {
   "cell_type": "code",
   "execution_count": 303,
   "id": "8739af20",
   "metadata": {},
   "outputs": [],
   "source": [
    "minyak_zhit = ( minyak_x2-minyak_x1)/math.sqrt(minyak_pembagi_x1+minyak_pembagi_x2)"
   ]
  },
  {
   "cell_type": "code",
   "execution_count": 304,
   "id": "0140f732",
   "metadata": {},
   "outputs": [
    {
     "data": {
      "text/plain": [
       "18.925161393409354"
      ]
     },
     "execution_count": 304,
     "metadata": {},
     "output_type": "execute_result"
    }
   ],
   "source": [
    "minyak_zhit"
   ]
  },
  {
   "cell_type": "markdown",
   "id": "e8efa8b6",
   "metadata": {},
   "source": [
    "karena nilai zhit lebih besar dari z table 1.96 maka h0 di tolak yang berarti ada nya perbedeaan yang signifikan terjadi antara 2019 vs 2020"
   ]
  },
  {
   "cell_type": "markdown",
   "id": "d799842e",
   "metadata": {},
   "source": [
    "## Gula Pasir"
   ]
  },
  {
   "cell_type": "code",
   "execution_count": 312,
   "id": "21b0f6fd",
   "metadata": {},
   "outputs": [],
   "source": [
    "gula_2019 = gulap[gulap['year']=='2019']\n",
    "gula_x1 = gula_2019['price'].mean()\n",
    "n_gula_x1= gula_2019['price'].count()\n",
    "gula_x1_stdev = gula_2019['price'].std()\n",
    "\n",
    "gula_2020 = gulap[gulap['year']=='2020']\n",
    "gula_x2 = gula_2020['price'].mean()\n",
    "n_gula_x2= gula_2020['price'].count()\n",
    "gula_x2_stdev = gula_2020['price'].std()"
   ]
  },
  {
   "cell_type": "code",
   "execution_count": 314,
   "id": "75d26224",
   "metadata": {},
   "outputs": [],
   "source": [
    "gula_pembagi_x1 = gula_x1_stdev**2/n_gula_x1\n",
    "gula_pembagi_x2 = gula_x2_stdev**2/n_gula_x2"
   ]
  },
  {
   "cell_type": "code",
   "execution_count": 315,
   "id": "da0a377e",
   "metadata": {},
   "outputs": [],
   "source": [
    "gula_zhit = (gula_x2-gula_x1)/math.sqrt(gula_pembagi_x1+gula_pembagi_x2)"
   ]
  },
  {
   "cell_type": "code",
   "execution_count": 317,
   "id": "7ac6278c",
   "metadata": {},
   "outputs": [
    {
     "data": {
      "text/plain": [
       "9.564401428806956"
      ]
     },
     "execution_count": 317,
     "metadata": {},
     "output_type": "execute_result"
    }
   ],
   "source": [
    "gula_zhit"
   ]
  },
  {
   "cell_type": "markdown",
   "id": "76eb2c16",
   "metadata": {},
   "source": [
    "karena nilai zhit lebih besar dari z table 1.96 maka h0 di tolak yang berarti ada nya perbedeaan yang signifikan terjadi antara 2019 vs 2020"
   ]
  },
  {
   "cell_type": "code",
   "execution_count": null,
   "id": "3e1aa6a4",
   "metadata": {},
   "outputs": [],
   "source": []
  }
 ],
 "metadata": {
  "kernelspec": {
   "display_name": "Python 3",
   "language": "python",
   "name": "python3"
  },
  "language_info": {
   "codemirror_mode": {
    "name": "ipython",
    "version": 3
   },
   "file_extension": ".py",
   "mimetype": "text/x-python",
   "name": "python",
   "nbconvert_exporter": "python",
   "pygments_lexer": "ipython3",
   "version": "3.8.8"
  }
 },
 "nbformat": 4,
 "nbformat_minor": 5
}
